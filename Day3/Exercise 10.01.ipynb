{
 "cells": [
  {
   "cell_type": "markdown",
   "id": "fb195635",
   "metadata": {},
   "source": [
    "### Exercise 10.01"
   ]
  },
  {
   "cell_type": "markdown",
   "id": "4c807652",
   "metadata": {},
   "source": [
    "Exploring the Cristiano Ronaldo Dataset with Descriptive Statistics"
   ]
  },
  {
   "cell_type": "markdown",
   "id": "e832056e",
   "metadata": {},
   "source": [
    "Import the packages"
   ]
  },
  {
   "cell_type": "code",
   "execution_count": null,
   "id": "6b3d7b57",
   "metadata": {},
   "outputs": [],
   "source": [
    "import pandas as pd"
   ]
  },
  {
   "cell_type": "markdown",
   "id": "b5a6a00e",
   "metadata": {},
   "source": [
    "Loading the dataset"
   ]
  },
  {
   "cell_type": "code",
   "execution_count": null,
   "id": "8071ff20",
   "metadata": {},
   "outputs": [],
   "source": [
    "df = pd.read_csv(\"yds_data.csv\", index_col=0)\n",
    "\n",
    "df.head()"
   ]
  },
  {
   "cell_type": "markdown",
   "id": "dc8ada9f",
   "metadata": {},
   "source": [
    "Checking the shape of the dataset"
   ]
  },
  {
   "cell_type": "code",
   "execution_count": null,
   "id": "8ba00c76",
   "metadata": {},
   "outputs": [],
   "source": [
    "df.shape"
   ]
  },
  {
   "cell_type": "markdown",
   "id": "1489613e",
   "metadata": {},
   "source": [
    "print the column names using columns attribute from the pandas package"
   ]
  },
  {
   "cell_type": "code",
   "execution_count": null,
   "id": "fe8453fb",
   "metadata": {},
   "outputs": [],
   "source": [
    "df.columns"
   ]
  },
  {
   "cell_type": "markdown",
   "id": "6711d654",
   "metadata": {},
   "source": [
    "print out the type of each variable contained in this Dataframe using the dtypes atribute from the pandas package"
   ]
  },
  {
   "cell_type": "code",
   "execution_count": null,
   "id": "39a69f40",
   "metadata": {},
   "outputs": [],
   "source": [
    "df.dtypes"
   ]
  },
  {
   "cell_type": "markdown",
   "id": "6760515a",
   "metadata": {},
   "source": [
    "Display the top rows of the dataframe using the head() method from pandas"
   ]
  },
  {
   "cell_type": "code",
   "execution_count": null,
   "id": "2af787b4",
   "metadata": {},
   "outputs": [],
   "source": [
    "df.head()"
   ]
  },
  {
   "cell_type": "markdown",
   "id": "12cde76b",
   "metadata": {},
   "source": [
    "Display the last five rows of the dataframe using the tail() method from pandas"
   ]
  },
  {
   "cell_type": "code",
   "execution_count": null,
   "id": "9427eb59",
   "metadata": {},
   "outputs": [],
   "source": [
    "df.tail()"
   ]
  },
  {
   "cell_type": "markdown",
   "id": "ca4cab26",
   "metadata": {},
   "source": [
    "Now, display 5 random smapled rows of the DataFrame using the sample() method from pandas and pass it a random_state of 8"
   ]
  },
  {
   "cell_type": "code",
   "execution_count": null,
   "id": "8066d28b",
   "metadata": {},
   "outputs": [],
   "source": [
    "df.sample(n=5, random_state=8)"
   ]
  }
 ],
 "metadata": {
  "kernelspec": {
   "display_name": "Python 3",
   "language": "python",
   "name": "python3"
  },
  "language_info": {
   "codemirror_mode": {
    "name": "ipython",
    "version": 3
   },
   "file_extension": ".py",
   "mimetype": "text/x-python",
   "name": "python",
   "nbconvert_exporter": "python",
   "pygments_lexer": "ipython3",
   "version": "3.8.8"
  }
 },
 "nbformat": 4,
 "nbformat_minor": 5
}
