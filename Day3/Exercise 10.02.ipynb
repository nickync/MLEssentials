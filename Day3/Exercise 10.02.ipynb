{
 "cells": [
  {
   "cell_type": "markdown",
   "id": "bad62757",
   "metadata": {},
   "source": [
    "### Exercise 10.02"
   ]
  },
  {
   "cell_type": "markdown",
   "id": "d8b3b607",
   "metadata": {},
   "source": [
    "Analyzing the Categorical Variables from the Cristiano Ronaldo Dataset"
   ]
  },
  {
   "cell_type": "markdown",
   "id": "b4cf5b91",
   "metadata": {},
   "source": [
    "Import the packages"
   ]
  },
  {
   "cell_type": "code",
   "execution_count": null,
   "id": "dc9d79e5",
   "metadata": {},
   "outputs": [],
   "source": [
    "import pandas as pd"
   ]
  },
  {
   "cell_type": "markdown",
   "id": "a40619c9",
   "metadata": {},
   "source": [
    "Loading the dataset"
   ]
  },
  {
   "cell_type": "code",
   "execution_count": null,
   "id": "93c12145",
   "metadata": {},
   "outputs": [],
   "source": [
    "df = pd.read_csv(\"yds_data.csv\", index_col=0)\n",
    "\n",
    "df.head()"
   ]
  },
  {
   "cell_type": "markdown",
   "id": "45c5c9d4",
   "metadata": {},
   "source": [
    "Checking the shape of the dataset"
   ]
  },
  {
   "cell_type": "code",
   "execution_count": null,
   "id": "c558a4f6",
   "metadata": {},
   "outputs": [],
   "source": [
    "df.shape"
   ]
  },
  {
   "cell_type": "markdown",
   "id": "b6b803ba",
   "metadata": {},
   "source": [
    "print the column names using columns attribute from the pandas package"
   ]
  },
  {
   "cell_type": "code",
   "execution_count": null,
   "id": "ecbbf531",
   "metadata": {},
   "outputs": [],
   "source": [
    "df.columns"
   ]
  },
  {
   "cell_type": "markdown",
   "id": "35e5e7ac",
   "metadata": {},
   "source": [
    "Create a new Data Frame called obj_df with only the columns that are of object data type using the select_dtypes method from pandas package. Then, pass in the object value to the include parameter"
   ]
  },
  {
   "cell_type": "code",
   "execution_count": null,
   "id": "dcd54010",
   "metadata": {},
   "outputs": [],
   "source": [
    "obj_df = df.select_dtypes(include='object')"
   ]
  },
  {
   "cell_type": "markdown",
   "id": "02c5f62f",
   "metadata": {},
   "source": [
    "Using the columns attribute from pandas, extract the list of columns of this DataFrame, obj_df, assign it to a new variable called obj_cols, and print its content"
   ]
  },
  {
   "cell_type": "code",
   "execution_count": null,
   "id": "aaa3390d",
   "metadata": {},
   "outputs": [],
   "source": [
    "obj_cols = obj_df.columns\n",
    "obj_cols"
   ]
  },
  {
   "cell_type": "markdown",
   "id": "7cdc003b",
   "metadata": {},
   "source": [
    "Create a function called describe_object that takes a pandas DataFrame and a column name as input parameters. Then, inside the function, print out the name of the given column, its number of unique values using the nunique() method, and the list of values and their occurrence using the value_counts() method, as shown in the following code snippet:"
   ]
  },
  {
   "cell_type": "code",
   "execution_count": null,
   "id": "fdd1ce24",
   "metadata": {},
   "outputs": [],
   "source": [
    "def describe_object(df, col_name):\n",
    "    print(f\"\\nCOLUMN: {col_name}\")\n",
    "    print(f\"{df[col_name].nunique()} different values\")\n",
    "    print(f\"List of values:\")\n",
    "    print(df[col_name].value_counts\\\n",
    "                       (dropna=False, normalize=True))"
   ]
  },
  {
   "cell_type": "code",
   "execution_count": null,
   "id": "3c26b58d",
   "metadata": {},
   "outputs": [],
   "source": [
    "describe_object(df, 'area_of_shot')"
   ]
  },
  {
   "cell_type": "markdown",
   "id": "71c100db",
   "metadata": {},
   "source": [
    "We have some NaN values, we can drop the NaN values using dropna() method from pandas"
   ]
  },
  {
   "cell_type": "code",
   "execution_count": null,
   "id": "6df9c0ee",
   "metadata": {},
   "outputs": [],
   "source": [
    "df.dropna(inplace=True)"
   ]
  },
  {
   "cell_type": "code",
   "execution_count": null,
   "id": "a6af1562",
   "metadata": {},
   "outputs": [],
   "source": [
    "for col_name in obj_cols:\n",
    "  describe_object(df, col_name)"
   ]
  },
  {
   "cell_type": "code",
   "execution_count": null,
   "id": "e27f8d6b",
   "metadata": {},
   "outputs": [],
   "source": []
  },
  {
   "cell_type": "code",
   "execution_count": null,
   "id": "0cdaa793",
   "metadata": {},
   "outputs": [],
   "source": []
  }
 ],
 "metadata": {
  "kernelspec": {
   "display_name": "Python 3",
   "language": "python",
   "name": "python3"
  },
  "language_info": {
   "codemirror_mode": {
    "name": "ipython",
    "version": 3
   },
   "file_extension": ".py",
   "mimetype": "text/x-python",
   "name": "python",
   "nbconvert_exporter": "python",
   "pygments_lexer": "ipython3",
   "version": "3.8.8"
  }
 },
 "nbformat": 4,
 "nbformat_minor": 5
}
