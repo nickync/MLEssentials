{
 "cells": [
  {
   "cell_type": "markdown",
   "id": "fb195635",
   "metadata": {},
   "source": [
    "### Exercise 10.03"
   ]
  },
  {
   "cell_type": "markdown",
   "id": "4c807652",
   "metadata": {},
   "source": [
    "Analyzing Numerical Variables from the Cristiano Ronaldo Dataset"
   ]
  },
  {
   "cell_type": "markdown",
   "id": "e832056e",
   "metadata": {},
   "source": [
    "Import the packages"
   ]
  },
  {
   "cell_type": "code",
   "execution_count": null,
   "id": "6b3d7b57",
   "metadata": {},
   "outputs": [],
   "source": [
    "import pandas as pd"
   ]
  },
  {
   "cell_type": "markdown",
   "id": "b5a6a00e",
   "metadata": {},
   "source": [
    "Loading the dataset"
   ]
  },
  {
   "cell_type": "code",
   "execution_count": null,
   "id": "8071ff20",
   "metadata": {},
   "outputs": [],
   "source": [
    "df = pd.read_csv(\"yds_data.csv\", index_col=0)\n",
    "\n",
    "df.head()"
   ]
  },
  {
   "cell_type": "markdown",
   "id": "dc8ada9f",
   "metadata": {},
   "source": [
    "Checking the shape of the dataset"
   ]
  },
  {
   "cell_type": "code",
   "execution_count": null,
   "id": "8ba00c76",
   "metadata": {},
   "outputs": [],
   "source": [
    "df.shape"
   ]
  },
  {
   "cell_type": "markdown",
   "id": "1489613e",
   "metadata": {},
   "source": [
    "print the column names using columns attribute from the pandas package"
   ]
  },
  {
   "cell_type": "code",
   "execution_count": null,
   "id": "fe8453fb",
   "metadata": {},
   "outputs": [],
   "source": [
    "df.columns"
   ]
  },
  {
   "cell_type": "markdown",
   "id": "6711d654",
   "metadata": {},
   "source": [
    "print out the type of each variable contained in this Dataframe using the dtypes atribute from the pandas package"
   ]
  },
  {
   "cell_type": "code",
   "execution_count": null,
   "id": "39a69f40",
   "metadata": {},
   "outputs": [],
   "source": [
    "df.dtypes"
   ]
  },
  {
   "cell_type": "markdown",
   "id": "6b86a8c0",
   "metadata": {},
   "source": [
    "Create a new DataFrame called num_df with only the columns that are numerical using the select_dtypes method from the pandas package and pass in the 'number' value to the include parameter:"
   ]
  },
  {
   "cell_type": "code",
   "execution_count": null,
   "id": "f04d8cb0",
   "metadata": {},
   "outputs": [],
   "source": [
    "num_df = df.select_dtypes(include='number')"
   ]
  },
  {
   "cell_type": "markdown",
   "id": "89ba9925",
   "metadata": {},
   "source": [
    "Using the columns attribute from pandas, extract the list of columns of this DataFrame, num_df, assign it to a new variable called num_cols, and print its content:"
   ]
  },
  {
   "cell_type": "code",
   "execution_count": null,
   "id": "1ee1e872",
   "metadata": {},
   "outputs": [],
   "source": [
    "num_cols = num_df.columns\n",
    "num_cols"
   ]
  },
  {
   "cell_type": "markdown",
   "id": "89ba68b1",
   "metadata": {},
   "source": [
    "Create a function called describe_numeric that takes a pandas DataFrame and a column name as input parameters. Then, inside the function, print out the name of the given column, its minimum value using min(), its maximum value using max(), its average value using mean(), its standard deviation using std(), and its median using median():"
   ]
  },
  {
   "cell_type": "code",
   "execution_count": null,
   "id": "8081ebc6",
   "metadata": {},
   "outputs": [],
   "source": [
    "def describe_numeric(df, col_name):\n",
    "    print(f\"\\nCOLUMN: {col_name}\")\n",
    "    print(f\"Minimum: {df[col_name].min()}\")\n",
    "    print(f\"Maximum: {df[col_name].max()}\")\n",
    "    print(f\"Average: {df[col_name].mean()}\")\n",
    "    print(f\"Standard Deviation: {df[col_name].std()}\")\n",
    "    print(f\"Median: {df[col_name].median()}\")"
   ]
  },
  {
   "cell_type": "markdown",
   "id": "8d6d1298",
   "metadata": {},
   "source": [
    "Now, test this function by providing the df DataFrame and the power_of_shot column:"
   ]
  },
  {
   "cell_type": "code",
   "execution_count": null,
   "id": "205c39e9",
   "metadata": {},
   "outputs": [],
   "source": [
    "describe_numeric(df, 'power_of_shot')"
   ]
  },
  {
   "cell_type": "markdown",
   "id": "dac37089",
   "metadata": {},
   "source": [
    "The power_of_shot ranges from 1 to 7 with an average of 2.5. The median is also most equal to the average, which tells us there are no outliers"
   ]
  },
  {
   "cell_type": "markdown",
   "id": "a0a82a03",
   "metadata": {},
   "source": [
    "Create a for loop that will call the created function for every element from the num_cols list:"
   ]
  },
  {
   "cell_type": "code",
   "execution_count": null,
   "id": "4f86eb8e",
   "metadata": {},
   "outputs": [],
   "source": [
    "for col_name in num_cols:\n",
    "    describe_numeric(df, col_name)"
   ]
  },
  {
   "cell_type": "code",
   "execution_count": null,
   "id": "18abced9",
   "metadata": {},
   "outputs": [],
   "source": []
  },
  {
   "cell_type": "code",
   "execution_count": null,
   "id": "8bdac20e",
   "metadata": {},
   "outputs": [],
   "source": []
  },
  {
   "cell_type": "code",
   "execution_count": null,
   "id": "bb72dd0e",
   "metadata": {},
   "outputs": [],
   "source": []
  }
 ],
 "metadata": {
  "kernelspec": {
   "display_name": "Python 3",
   "language": "python",
   "name": "python3"
  },
  "language_info": {
   "codemirror_mode": {
    "name": "ipython",
    "version": 3
   },
   "file_extension": ".py",
   "mimetype": "text/x-python",
   "name": "python",
   "nbconvert_exporter": "python",
   "pygments_lexer": "ipython3",
   "version": "3.8.8"
  }
 },
 "nbformat": 4,
 "nbformat_minor": 5
}
