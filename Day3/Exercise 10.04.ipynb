{
 "cells": [
  {
   "cell_type": "markdown",
   "id": "fb195635",
   "metadata": {},
   "source": [
    "### Exercise 10.04"
   ]
  },
  {
   "cell_type": "markdown",
   "id": "4c807652",
   "metadata": {},
   "source": [
    "Visualizing the Cristiano Ronaldo Dataset with Altair"
   ]
  },
  {
   "cell_type": "markdown",
   "id": "e832056e",
   "metadata": {},
   "source": [
    "Import the packages"
   ]
  },
  {
   "cell_type": "code",
   "execution_count": null,
   "id": "6b3d7b57",
   "metadata": {},
   "outputs": [],
   "source": [
    "import pandas as pd"
   ]
  },
  {
   "cell_type": "markdown",
   "id": "b5a6a00e",
   "metadata": {},
   "source": [
    "Loading the dataset"
   ]
  },
  {
   "cell_type": "code",
   "execution_count": null,
   "id": "8071ff20",
   "metadata": {},
   "outputs": [],
   "source": [
    "df = pd.read_csv(\"yds_data.csv\", index_col=0)\n",
    "\n",
    "df.head()"
   ]
  },
  {
   "cell_type": "markdown",
   "id": "dc8ada9f",
   "metadata": {},
   "source": [
    "Checking the shape of the dataset"
   ]
  },
  {
   "cell_type": "code",
   "execution_count": null,
   "id": "8ba00c76",
   "metadata": {},
   "outputs": [],
   "source": [
    "df.shape"
   ]
  },
  {
   "cell_type": "markdown",
   "id": "1489613e",
   "metadata": {},
   "source": [
    "print the column names using columns attribute from the pandas package"
   ]
  },
  {
   "cell_type": "code",
   "execution_count": null,
   "id": "fe8453fb",
   "metadata": {},
   "outputs": [],
   "source": [
    "df.columns"
   ]
  },
  {
   "cell_type": "markdown",
   "id": "6711d654",
   "metadata": {},
   "source": [
    "print out the type of each variable contained in this Dataframe using the dtypes atribute from the pandas package"
   ]
  },
  {
   "cell_type": "code",
   "execution_count": null,
   "id": "39a69f40",
   "metadata": {},
   "outputs": [],
   "source": [
    "df.dtypes"
   ]
  },
  {
   "cell_type": "markdown",
   "id": "6760515a",
   "metadata": {},
   "source": [
    "Display the top rows of the dataframe using the head() method from pandas"
   ]
  },
  {
   "cell_type": "code",
   "execution_count": null,
   "id": "2af787b4",
   "metadata": {},
   "outputs": [],
   "source": [
    "df.head()"
   ]
  },
  {
   "cell_type": "markdown",
   "id": "12cde76b",
   "metadata": {},
   "source": [
    "Display the last five rows of the dataframe using the tail() method from pandas"
   ]
  },
  {
   "cell_type": "code",
   "execution_count": null,
   "id": "9427eb59",
   "metadata": {},
   "outputs": [],
   "source": [
    "df.tail()"
   ]
  },
  {
   "cell_type": "markdown",
   "id": "ca4cab26",
   "metadata": {},
   "source": [
    "Now, display 5 random smapled rows of the DataFrame using the sample() method from pandas and pass it a random_state of 8"
   ]
  },
  {
   "cell_type": "code",
   "execution_count": null,
   "id": "8066d28b",
   "metadata": {},
   "outputs": [],
   "source": [
    "df.sample(n=5, random_state=8)"
   ]
  },
  {
   "cell_type": "markdown",
   "id": "36c61c52",
   "metadata": {},
   "source": [
    "lets drop the NaN values before we start visualisation"
   ]
  },
  {
   "cell_type": "code",
   "execution_count": null,
   "id": "8eaa49d7",
   "metadata": {},
   "outputs": [],
   "source": [
    "df.info()"
   ]
  },
  {
   "cell_type": "code",
   "execution_count": null,
   "id": "5f45fda5",
   "metadata": {},
   "outputs": [],
   "source": [
    "df.describe()"
   ]
  },
  {
   "cell_type": "code",
   "execution_count": null,
   "id": "d2d01f7b",
   "metadata": {},
   "outputs": [],
   "source": [
    "df.corr()"
   ]
  },
  {
   "cell_type": "markdown",
   "id": "76efe029",
   "metadata": {},
   "source": [
    "Plot the histogram for the distance_of_shot variable using the mark_bar() and encode() methods from the altair package. Use the alt.X and alt.Bin APIs to specify the number of bin steps, that is, 100:"
   ]
  },
  {
   "cell_type": "markdown",
   "id": "52bebfe0",
   "metadata": {},
   "source": [
    "Import the altair packages"
   ]
  },
  {
   "cell_type": "code",
   "execution_count": null,
   "id": "57ea035f",
   "metadata": {},
   "outputs": [],
   "source": [
    "import altair as alt"
   ]
  },
  {
   "cell_type": "code",
   "execution_count": null,
   "id": "f36f5274",
   "metadata": {},
   "outputs": [],
   "source": [
    "alt.data_transformers.disable_max_rows()"
   ]
  },
  {
   "cell_type": "code",
   "execution_count": null,
   "id": "f0067983",
   "metadata": {},
   "outputs": [],
   "source": [
    "alt.Chart(df).mark_bar()\\\n",
    "   .encode(alt.X(\"power_of_shot\", bin=alt.Bin(50000)), y='count()')"
   ]
  },
  {
   "cell_type": "markdown",
   "id": "96771b27",
   "metadata": {},
   "source": [
    "Now, let's plot the histogram for \"power_of_shot\" but this time with a bin step size of 10000:"
   ]
  },
  {
   "cell_type": "code",
   "execution_count": null,
   "id": "9ae89b50",
   "metadata": {},
   "outputs": [],
   "source": [
    "alt.Chart(df).mark_bar()\\\n",
    "   .encode(alt.X(\"distance_of_shot\", bin=alt.Bin(10000)), y='count()')"
   ]
  },
  {
   "cell_type": "markdown",
   "id": "2078d352",
   "metadata": {},
   "source": [
    "Now, plot a scatter plot with location_y as the x axis and distance_of_shot as the y axis to understand the interactions between these two variables:"
   ]
  },
  {
   "cell_type": "code",
   "execution_count": null,
   "id": "64471295",
   "metadata": {},
   "outputs": [],
   "source": [
    "alt.Chart(df).mark_circle()\\\n",
    "   .encode(x='location_y:Q', y='distance_of_shot:Q')"
   ]
  },
  {
   "cell_type": "markdown",
   "id": "34665c47",
   "metadata": {},
   "source": [
    "Build a boxplot with Power_of_shot:O (':O' is for specifying that this column is ordinal) on the x axis and distance_of_shot on the y axis using the mark_boxplot() method, as shown in the following code snippet:"
   ]
  },
  {
   "cell_type": "code",
   "execution_count": null,
   "id": "d203964e",
   "metadata": {},
   "outputs": [],
   "source": [
    "alt.Chart(df).mark_boxplot()\\\n",
    "   .encode(x='power_of_shot:O', y='distance_of_shot:Q')"
   ]
  },
  {
   "cell_type": "code",
   "execution_count": null,
   "id": "46a8885f",
   "metadata": {},
   "outputs": [],
   "source": []
  },
  {
   "cell_type": "code",
   "execution_count": null,
   "id": "629d7c05",
   "metadata": {},
   "outputs": [],
   "source": []
  },
  {
   "cell_type": "code",
   "execution_count": null,
   "id": "372b59bf",
   "metadata": {},
   "outputs": [],
   "source": []
  },
  {
   "cell_type": "code",
   "execution_count": null,
   "id": "f8e2d369",
   "metadata": {},
   "outputs": [],
   "source": []
  },
  {
   "cell_type": "code",
   "execution_count": null,
   "id": "31c77deb",
   "metadata": {},
   "outputs": [],
   "source": []
  },
  {
   "cell_type": "code",
   "execution_count": null,
   "id": "dd1966da",
   "metadata": {},
   "outputs": [],
   "source": []
  }
 ],
 "metadata": {
  "kernelspec": {
   "display_name": "Python 3",
   "language": "python",
   "name": "python3"
  },
  "language_info": {
   "codemirror_mode": {
    "name": "ipython",
    "version": 3
   },
   "file_extension": ".py",
   "mimetype": "text/x-python",
   "name": "python",
   "nbconvert_exporter": "python",
   "pygments_lexer": "ipython3",
   "version": "3.8.8"
  }
 },
 "nbformat": 4,
 "nbformat_minor": 5
}
