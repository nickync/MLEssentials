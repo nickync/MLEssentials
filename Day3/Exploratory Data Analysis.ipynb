{
 "cells": [
  {
   "cell_type": "code",
   "execution_count": null,
   "id": "36e8b7f4",
   "metadata": {},
   "outputs": [],
   "source": [
    "import numpy as np\n",
    "import pandas as pd\n",
    "import matplotlib.pyplot as plt\n",
    "%matplotlib inline\n",
    "import seaborn as sns"
   ]
  },
  {
   "cell_type": "code",
   "execution_count": null,
   "id": "c55b0421",
   "metadata": {},
   "outputs": [],
   "source": [
    "auto=pd.read_csv('Dataset\\Automobile_data.csv')\n",
    "auto.head()"
   ]
  },
  {
   "cell_type": "code",
   "execution_count": null,
   "id": "3c87661c",
   "metadata": {},
   "outputs": [],
   "source": [
    "auto.shape"
   ]
  },
  {
   "cell_type": "code",
   "execution_count": null,
   "id": "2dd36f44",
   "metadata": {},
   "outputs": [],
   "source": [
    "auto.shape[0]"
   ]
  },
  {
   "cell_type": "code",
   "execution_count": null,
   "id": "92cd2cf3",
   "metadata": {},
   "outputs": [],
   "source": [
    "auto.shape[1]"
   ]
  },
  {
   "cell_type": "code",
   "execution_count": null,
   "id": "839958cc",
   "metadata": {},
   "outputs": [],
   "source": [
    "cols=['symboling','normalized_losses','make','fuel_type',\n",
    "      'aspiration','num_of_doors','body_style','drive_wheels_engine',\n",
    "      'location','wheel_base','length','width','height','curb_weight',\n",
    "      'engine_type','num_of_cylinders','engine_size','fuel_system',\n",
    "      'bore','stroke','compression_ratio','horsepower','peak_rpm',\n",
    "      'city_mpg','highway_mpg','price']\n",
    "\n",
    "auto.colums = cols\n",
    "\n",
    "auto.head()"
   ]
  },
  {
   "cell_type": "code",
   "execution_count": null,
   "id": "3914d8a4",
   "metadata": {},
   "outputs": [],
   "source": [
    "auto.columns"
   ]
  },
  {
   "cell_type": "code",
   "execution_count": null,
   "id": "0070d723",
   "metadata": {},
   "outputs": [],
   "source": [
    "auto.dtypes"
   ]
  },
  {
   "cell_type": "code",
   "execution_count": null,
   "id": "46f1219b",
   "metadata": {},
   "outputs": [],
   "source": [
    "auto['curb-weight'].max()"
   ]
  },
  {
   "cell_type": "code",
   "execution_count": null,
   "id": "65d47d04",
   "metadata": {},
   "outputs": [],
   "source": [
    "auto['curb-weight'].min()"
   ]
  },
  {
   "cell_type": "code",
   "execution_count": null,
   "id": "cb64fc03",
   "metadata": {},
   "outputs": [],
   "source": [
    "auto['curb-weight'].mean()"
   ]
  },
  {
   "cell_type": "code",
   "execution_count": null,
   "id": "9d90cda4",
   "metadata": {},
   "outputs": [],
   "source": [
    "auto['curb-weight'].median()"
   ]
  },
  {
   "cell_type": "code",
   "execution_count": null,
   "id": "3c1854d0",
   "metadata": {},
   "outputs": [],
   "source": [
    "auto['curb-weight'].std()"
   ]
  },
  {
   "cell_type": "code",
   "execution_count": null,
   "id": "339d1e64",
   "metadata": {},
   "outputs": [],
   "source": [
    "auto.describe()"
   ]
  },
  {
   "cell_type": "code",
   "execution_count": null,
   "id": "440abe8c",
   "metadata": {},
   "outputs": [],
   "source": [
    "import altair as alt"
   ]
  },
  {
   "cell_type": "code",
   "execution_count": null,
   "id": "d074e5ea",
   "metadata": {},
   "outputs": [],
   "source": [
    "sample_df = auto.sample(n=50, random_state=8)"
   ]
  },
  {
   "cell_type": "code",
   "execution_count": null,
   "id": "eeb7ff2e",
   "metadata": {},
   "outputs": [],
   "source": [
    "base = alt.Chart(sample_df)"
   ]
  },
  {
   "cell_type": "code",
   "execution_count": null,
   "id": "239b0fec",
   "metadata": {},
   "outputs": [],
   "source": [
    "chart = base.mark_circle()"
   ]
  },
  {
   "cell_type": "code",
   "execution_count": null,
   "id": "a4f72ac5",
   "metadata": {},
   "outputs": [],
   "source": [
    "chart.encode(x='curb-weight', y='highway-mpg')"
   ]
  },
  {
   "cell_type": "code",
   "execution_count": null,
   "id": "f68dfe47",
   "metadata": {},
   "outputs": [],
   "source": [
    "alt.Chart(sample_df).mark_circle().encode(x='curb-weight', y='highway-mpg')"
   ]
  },
  {
   "cell_type": "code",
   "execution_count": null,
   "id": "a6f09ab0",
   "metadata": {},
   "outputs": [],
   "source": [
    "alt.Chart(sample_df).mark_circle().encode(x='curb-weight', y='highway-mpg',\n",
    "                                         color='num-of-cylinders')"
   ]
  },
  {
   "cell_type": "code",
   "execution_count": null,
   "id": "5860dbc2",
   "metadata": {},
   "outputs": [],
   "source": [
    "alt.Chart(sample_df).mark_bar().encode(\n",
    "alt.X(\"highway-mpg:Q\", bin=True), \n",
    "y='count()'\n",
    ")"
   ]
  },
  {
   "cell_type": "code",
   "execution_count": null,
   "id": "1be93f2b",
   "metadata": {},
   "outputs": [],
   "source": [
    "alt.Chart(sample_df).mark_bar().encode(\n",
    "alt.X(\"highway-mpg:Q\", bin=alt.Bin(step=10)), y='count()')"
   ]
  },
  {
   "cell_type": "code",
   "execution_count": null,
   "id": "e0ffc816",
   "metadata": {},
   "outputs": [],
   "source": [
    "alt.Chart(sample_df).mark_bar().encode(x='num-of-cylinders',y='count()')"
   ]
  },
  {
   "cell_type": "code",
   "execution_count": null,
   "id": "e2816901",
   "metadata": {},
   "outputs": [],
   "source": [
    "alt.Chart(sample_df).mark_boxplot().encode(\n",
    "    x='num-of-cylinders:O',\n",
    "    y='highway-mpg:Q'\n",
    ")"
   ]
  },
  {
   "cell_type": "code",
   "execution_count": null,
   "id": "2a8f7f0c",
   "metadata": {},
   "outputs": [],
   "source": [
    "auto.isnull().sum()"
   ]
  },
  {
   "cell_type": "code",
   "execution_count": null,
   "id": "abf17e17",
   "metadata": {},
   "outputs": [],
   "source": [
    "auto.info()"
   ]
  },
  {
   "cell_type": "code",
   "execution_count": null,
   "id": "03211f2e",
   "metadata": {},
   "outputs": [],
   "source": [
    "#Checking for wrong entries like symbols -,?,#,*,etc.\n",
    "for col in auto.columns:\n",
    "    print('{} : {}'.format(col,auto[col].unique()))\n",
    "    print('________________________________')"
   ]
  },
  {
   "cell_type": "code",
   "execution_count": null,
   "id": "f3dc8000",
   "metadata": {},
   "outputs": [],
   "source": [
    "#Replacing '?' with nan values\n",
    "for col in auto.columns:\n",
    "    auto[col].replace({'?':np.nan},inplace=True)"
   ]
  },
  {
   "cell_type": "code",
   "execution_count": null,
   "id": "4a3d53dc",
   "metadata": {},
   "outputs": [],
   "source": [
    "auto.head()"
   ]
  },
  {
   "cell_type": "code",
   "execution_count": null,
   "id": "83cd6dd4",
   "metadata": {},
   "outputs": [],
   "source": [
    "auto.head(10)"
   ]
  },
  {
   "cell_type": "code",
   "execution_count": null,
   "id": "025d7798",
   "metadata": {},
   "outputs": [],
   "source": [
    "auto.tail(8)"
   ]
  },
  {
   "cell_type": "code",
   "execution_count": null,
   "id": "062f51a1",
   "metadata": {},
   "outputs": [],
   "source": [
    "auto.sample(n=5, random_state=10)"
   ]
  },
  {
   "cell_type": "code",
   "execution_count": null,
   "id": "a7909f5c",
   "metadata": {},
   "outputs": [],
   "source": [
    "auto['body-style'].nunique()"
   ]
  },
  {
   "cell_type": "code",
   "execution_count": null,
   "id": "6088f191",
   "metadata": {},
   "outputs": [],
   "source": [
    "auto['body-style'].unique()"
   ]
  },
  {
   "cell_type": "code",
   "execution_count": null,
   "id": "b41583a5",
   "metadata": {},
   "outputs": [],
   "source": [
    "auto['body-style'].value_counts(dropna=False, normalize=True)"
   ]
  },
  {
   "cell_type": "code",
   "execution_count": null,
   "id": "0903393f",
   "metadata": {},
   "outputs": [],
   "source": [
    "auto.isnull().sum()"
   ]
  },
  {
   "cell_type": "code",
   "execution_count": null,
   "id": "0042d6fe",
   "metadata": {},
   "outputs": [],
   "source": [
    "sns.heatmap(auto.isnull(),cbar=False,cmap='viridis')"
   ]
  },
  {
   "cell_type": "code",
   "execution_count": null,
   "id": "fcdc9a6b",
   "metadata": {},
   "outputs": [],
   "source": [
    "#Converting the datatype and \n",
    "#imputing the missing values with median\n",
    "a = pd.to_numeric(auto['normalized-losses'])\n",
    "auto['normalized-losses'] = a\n",
    "auto['normalized-losses'].fillna(a.median(), inplace=True)\n",
    "\n",
    "b = pd.to_numeric(auto['bore'])\n",
    "auto['bore'] = b\n",
    "auto['bore'].fillna(b.median(), inplace=True)\n",
    "\n",
    "c = pd.to_numeric(auto['stroke'])\n",
    "auto['stroke'] = c\n",
    "auto['stroke'].fillna(c.median(), inplace=True)\n",
    "\n",
    "d = pd.to_numeric(auto['horsepower'])\n",
    "auto['horsepower'] = d\n",
    "auto['horsepower'].fillna(d.median(), inplace=True)\n",
    "\n",
    "auto['peak-rpm'] = auto['peak-rpm'].astype('float')\n",
    "auto['peak-rpm'].fillna(auto['peak-rpm'].median(), inplace=True)\n",
    "\n",
    "auto['price'] = auto['price'].astype('float')\n",
    "auto['price'].fillna(auto['price'].median(), inplace=True)"
   ]
  },
  {
   "cell_type": "code",
   "execution_count": null,
   "id": "970b5dee",
   "metadata": {},
   "outputs": [],
   "source": [
    "auto['num-of-doors'].value_counts()"
   ]
  },
  {
   "cell_type": "code",
   "execution_count": null,
   "id": "43b0df4d",
   "metadata": {},
   "outputs": [],
   "source": [
    "###Imputing with most frequent value\n",
    "auto['num-of-doors'].fillna('four', inplace=True)"
   ]
  },
  {
   "cell_type": "code",
   "execution_count": null,
   "id": "02b0c494",
   "metadata": {},
   "outputs": [],
   "source": [
    "auto.isnull().sum()"
   ]
  },
  {
   "cell_type": "code",
   "execution_count": null,
   "id": "87a29957",
   "metadata": {},
   "outputs": [],
   "source": [
    "auto.describe()"
   ]
  },
  {
   "cell_type": "code",
   "execution_count": null,
   "id": "8fcdc3a8",
   "metadata": {},
   "outputs": [],
   "source": [
    "plt.figure(figsize=(15,15))\n",
    "sns.heatmap(auto.corr(),cbar=True,annot=True,cmap='Blues')"
   ]
  },
  {
   "cell_type": "code",
   "execution_count": null,
   "id": "a9863755",
   "metadata": {},
   "outputs": [],
   "source": [
    "plt.figure(figsize=(10,10))\n",
    "plt.scatter(x='horsepower',y='price',data=auto)\n",
    "plt.xlabel('Horsepower')\n",
    "plt.ylabel('Price')"
   ]
  },
  {
   "cell_type": "code",
   "execution_count": null,
   "id": "0983b008",
   "metadata": {},
   "outputs": [],
   "source": [
    "sns.histplot(auto.horsepower,bins=10)"
   ]
  },
  {
   "cell_type": "code",
   "execution_count": null,
   "id": "0b207e5d",
   "metadata": {},
   "outputs": [],
   "source": [
    "plt.figure(figsize=(10,10))\n",
    "plt.scatter(x='engine-size',y='price', data=auto)\n",
    "plt.xlabel('Engine size')\n",
    "plt.ylabel('Price')"
   ]
  },
  {
   "cell_type": "code",
   "execution_count": null,
   "id": "39eccc29",
   "metadata": {},
   "outputs": [],
   "source": [
    "plt.figure(figsize=(10,10))\n",
    "plt.scatter(x='highway-mpg',y='price',data=auto)\n",
    "plt.xlabel('Higway mpg')\n",
    "plt.ylabel('Price')"
   ]
  },
  {
   "cell_type": "code",
   "execution_count": null,
   "id": "377a28ea",
   "metadata": {},
   "outputs": [],
   "source": [
    "#Unique values in num_of_doors\n",
    "auto['num-of-doors'].value_counts()"
   ]
  },
  {
   "cell_type": "code",
   "execution_count": null,
   "id": "56781e44",
   "metadata": {},
   "outputs": [],
   "source": [
    "sns.boxplot(x='num-of-doors',y='price',data=auto,orient=\"v\")"
   ]
  },
  {
   "cell_type": "code",
   "execution_count": null,
   "id": "0ad0c0d3",
   "metadata": {},
   "outputs": [],
   "source": [
    "#Splitting variables in numerical and objects\n",
    "print(\"Object data types\\n\",auto.select_dtypes(include=object).columns)\n",
    "print(\"------------------------------------\")\n",
    "print(\"Numeric data types\\n\",auto.select_dtypes(include=np.number).columns)"
   ]
  },
  {
   "cell_type": "code",
   "execution_count": null,
   "id": "dc5f9265",
   "metadata": {},
   "outputs": [],
   "source": [
    "categorical_columns = ['make', 'fuel-type', 'aspiration', 'num-of-doors', 'body-style',\n",
    "       'drive-wheels', 'engine-location', 'engine-type', 'num-of-cylinders',\n",
    "       'fuel-system']    \n",
    "numerical_columns = ['symboling', 'normalized-losses', 'wheel-base', 'length', 'width',\n",
    "       'height', 'curb-weight', 'engine-size', 'bore', 'stroke',\n",
    "       'compression-ratio', 'horsepower', 'peak-rpm', 'city-mpg',\n",
    "       'highway-mpg', 'price']"
   ]
  },
  {
   "cell_type": "code",
   "execution_count": null,
   "id": "afdebe45",
   "metadata": {},
   "outputs": [],
   "source": [
    "import warnings\n",
    "warnings.filterwarnings(\"ignore\")\n",
    "import seaborn as sns\n",
    "\n",
    "# Outlier detection using boxplots \n",
    "plt.figure(figsize= (20,15))\n",
    "\n",
    "plt.subplot(4,4,1)\n",
    "sns.boxplot(auto['normalized-losses'])\n",
    "\n",
    "plt.subplot(4,4,2)\n",
    "sns.boxplot(auto['symboling'])\n",
    "\n",
    "plt.subplot(4,4,3)\n",
    "sns.boxplot(auto['wheel-base'])\n",
    "\n",
    "plt.subplot(4,4,4)\n",
    "sns.boxplot(auto['length'])\n",
    "\n",
    "plt.subplot(4,4,5)\n",
    "sns.boxplot(auto['width'])\n",
    "\n",
    "plt.subplot(4,4,6)\n",
    "sns.boxplot(auto['curb-weight'])\n",
    "\n",
    "plt.subplot(4,4,7)\n",
    "sns.boxplot(auto['engine-size'])\n",
    "\n",
    "plt.subplot(4,4,8)\n",
    "sns.boxplot(auto['city-mpg'])\n",
    "\n",
    "plt.subplot(4,4,9)\n",
    "sns.boxplot(auto['highway-mpg'])\n",
    "\n",
    "plt.subplot(4,4,10)\n",
    "sns.boxplot(auto['height'])\n",
    "\n",
    "plt.subplot(4,4,11)\n",
    "sns.boxplot(auto['compression-ratio'])\n",
    "\n",
    "plt.subplot(4,4,12)\n",
    "sns.boxplot(auto['bore'])\n",
    "\n",
    "plt.subplot(4,4,13)\n",
    "sns.boxplot(auto['stroke'])\n",
    "\n",
    "plt.subplot(4,4,14)\n",
    "sns.boxplot(auto['horsepower'])\n",
    "\n",
    "plt.subplot(4,4,15)\n",
    "sns.boxplot(auto['peak-rpm'])\n"
   ]
  },
  {
   "cell_type": "code",
   "execution_count": null,
   "id": "022039e5",
   "metadata": {},
   "outputs": [],
   "source": [
    "data1=auto.copy()\n",
    "#Substitution for the variable normalized-lossses.\n",
    "data1['normalized-losses']=data1['normalized-losses'].clip(lower=data1['normalized-losses'].quantile(0.05), \n",
    "                                                           upper=data1['normalized-losses'].quantile(0.95))"
   ]
  },
  {
   "cell_type": "code",
   "execution_count": null,
   "id": "cd2e3e6a",
   "metadata": {},
   "outputs": [],
   "source": [
    "plt.figure(figsize= (10,10))\n",
    "plt.subplot(2,1,1)\n",
    "sns.boxplot(auto['normalized-losses'],)\n",
    "plt.title(\"Distribution before removing the outliers\")\n",
    "\n",
    "plt.subplot(2,1,2)\n",
    "plt.title(\"Distribution After removing the outliers\")\n",
    "sns.boxplot(data1['normalized-losses'])"
   ]
  },
  {
   "cell_type": "code",
   "execution_count": null,
   "id": "4705451b",
   "metadata": {},
   "outputs": [],
   "source": [
    "for i in categorical_columns:\n",
    "    plt.figure(figsize=(10,7))\n",
    "    sns.countplot(auto[i])\n",
    "    plt.xticks(rotation=90)\n",
    "    plt.show()\n",
    "    "
   ]
  },
  {
   "cell_type": "code",
   "execution_count": null,
   "id": "9a4bc691",
   "metadata": {},
   "outputs": [],
   "source": [
    "_ =auto.hist(figsize=(20,12))"
   ]
  },
  {
   "cell_type": "code",
   "execution_count": null,
   "id": "d6ab481e",
   "metadata": {},
   "outputs": [],
   "source": [
    "plt.figure(figsize=(11,7))\n",
    "sns.distplot(auto['price'], hist=False, bins=20)\n",
    "plt.show()"
   ]
  },
  {
   "cell_type": "code",
   "execution_count": null,
   "id": "6cee4bcb",
   "metadata": {},
   "outputs": [],
   "source": [
    "plt.figure(figsize=(11,7))\n",
    "sns.boxplot(data=data1, x='body-style', y=\"price\")\n",
    "plt.title(\"Body-style vs Price\")"
   ]
  },
  {
   "cell_type": "code",
   "execution_count": null,
   "id": "06caecc6",
   "metadata": {},
   "outputs": [],
   "source": [
    "sns.kdeplot(data=data1, x=\"price\", hue=\"drive-wheels\")\n",
    "plt.title(\"Drive-Wheels vs Price\")"
   ]
  },
  {
   "cell_type": "code",
   "execution_count": null,
   "id": "14886be5",
   "metadata": {},
   "outputs": [],
   "source": [
    "plt.figure(figsize=(11,7))\n",
    "sns.violinplot(data=data1, x='num-of-doors', y=\"price\")\n",
    "plt.title(\"Num-of-doors vs Price\")"
   ]
  },
  {
   "cell_type": "code",
   "execution_count": null,
   "id": "13d7c847",
   "metadata": {},
   "outputs": [],
   "source": [
    "plt.figure(figsize=(11,7))\n",
    "sns.stripplot(data=data1, x='num-of-cylinders', y=\"price\")\n",
    "plt.title(\"Num-of-cylinders vs Price\")"
   ]
  },
  {
   "cell_type": "code",
   "execution_count": null,
   "id": "3e38f0e8",
   "metadata": {},
   "outputs": [],
   "source": [
    "ax = sns.boxplot(x = \"make\",y= \"price\",data=auto)\n",
    "plt.xticks(rotation=90)\n",
    "plt.title(\"Make Vs Price\")\n",
    "plt.axhline(y=20000)"
   ]
  },
  {
   "cell_type": "code",
   "execution_count": null,
   "id": "b572f6d3",
   "metadata": {},
   "outputs": [],
   "source": [
    "data1.columns"
   ]
  },
  {
   "cell_type": "code",
   "execution_count": null,
   "id": "ae4d60fd",
   "metadata": {},
   "outputs": [],
   "source": [
    "# Recover default matplotlib settings\n",
    "import matplotlib as mpl\n",
    "mpl.rcParams.update(mpl.rcParamsDefault)\n",
    "plt.rcParams[ 'axes.labelsize'] = 10\n",
    "plt.rcParams['xtick.labelsize'] = 10\n",
    "plt.rcParams['ytick.labelsize'] = 10"
   ]
  },
  {
   "cell_type": "code",
   "execution_count": null,
   "id": "be8a7634",
   "metadata": {},
   "outputs": [],
   "source": [
    "sns.jointplot(data=data1, x=\"highway-mpg\", y=\"price\", hue=\"fuel-type\")"
   ]
  },
  {
   "cell_type": "code",
   "execution_count": null,
   "id": "c5ee4747",
   "metadata": {},
   "outputs": [],
   "source": [
    "auto.info()"
   ]
  },
  {
   "cell_type": "code",
   "execution_count": null,
   "id": "06726edf",
   "metadata": {},
   "outputs": [],
   "source": [
    "g=sns.FacetGrid(auto, row='aspiration', col='drive-wheels')\n",
    "g.map(sns.scatterplot, \"highway-mpg\",\"price\")"
   ]
  },
  {
   "cell_type": "code",
   "execution_count": null,
   "id": "484d445b",
   "metadata": {},
   "outputs": [],
   "source": [
    "g=sns.FacetGrid(auto, col='body-style', row='aspiration')\n",
    "g.map(sns.scatterplot, \"highway-mpg\",\"price\")"
   ]
  }
 ],
 "metadata": {
  "kernelspec": {
   "display_name": "Python 3",
   "language": "python",
   "name": "python3"
  },
  "language_info": {
   "codemirror_mode": {
    "name": "ipython",
    "version": 3
   },
   "file_extension": ".py",
   "mimetype": "text/x-python",
   "name": "python",
   "nbconvert_exporter": "python",
   "pygments_lexer": "ipython3",
   "version": "3.8.8"
  }
 },
 "nbformat": 4,
 "nbformat_minor": 5
}
