{
 "cells": [
  {
   "cell_type": "code",
   "execution_count": 47,
   "metadata": {
    "colab": {},
    "colab_type": "code",
    "id": "HEiOAwQPW0qb"
   },
   "outputs": [],
   "source": [
    "import pandas as pd\n",
    "import numpy as np"
   ]
  },
  {
   "cell_type": "code",
   "execution_count": 3,
   "metadata": {
    "colab": {},
    "colab_type": "code",
    "id": "j7whidfaYjns"
   },
   "outputs": [],
   "source": [
    "disp_url = 'https://raw.githubusercontent.com/fenago/MLEssentials/main/datasets/disp.csv'\n",
    "account_url = 'https://raw.githubusercontent.com/fenago/MLEssentials/main/datasets/account.csv'\n",
    "client_url = 'https://raw.githubusercontent.com/fenago/MLEssentials/main/datasets/client.csv'\n",
    "trans_url = './datasets/trans.csv'\n",
    "# data can be found here: https://github.com/fenago/MLEssentials/tree/main/datasets"
   ]
  },
  {
   "cell_type": "code",
   "execution_count": 4,
   "metadata": {
    "colab": {
     "base_uri": "https://localhost:8080/",
     "height": 71
    },
    "colab_type": "code",
    "executionInfo": {
     "elapsed": 8712,
     "status": "ok",
     "timestamp": 1574650430652,
     "user": {
      "displayName": "Anthony So",
      "photoUrl": "https://lh3.googleusercontent.com/a-/AAuE7mCYY-iGjUIqBSnlLoszfZTN7rU7FRNg05Rdt9Ii3A=s64",
      "userId": "11809607246124237079"
     },
     "user_tz": -660
    },
    "id": "nFMz2jNVt-xy",
    "outputId": "95f4874b-575f-4b8d-ede4-734116c4a502"
   },
   "outputs": [
    {
     "name": "stderr",
     "output_type": "stream",
     "text": [
      "/opt/anaconda3/lib/python3.9/site-packages/IPython/core/interactiveshell.py:3444: DtypeWarning: Columns (8) have mixed types.Specify dtype option on import or set low_memory=False.\n",
      "  exec(code_obj, self.user_global_ns, self.user_ns)\n"
     ]
    }
   ],
   "source": [
    "df_disp = pd.read_csv(disp_url, sep=';')\n",
    "df_trans = pd.read_csv(trans_url, sep=';')\n",
    "df_account = pd.read_csv(account_url, sep=';')\n",
    "df_client = pd.read_csv(client_url, sep=';')"
   ]
  },
  {
   "cell_type": "code",
   "execution_count": 5,
   "metadata": {
    "colab": {
     "base_uri": "https://localhost:8080/",
     "height": 204
    },
    "colab_type": "code",
    "executionInfo": {
     "elapsed": 8706,
     "status": "ok",
     "timestamp": 1574650430653,
     "user": {
      "displayName": "Anthony So",
      "photoUrl": "https://lh3.googleusercontent.com/a-/AAuE7mCYY-iGjUIqBSnlLoszfZTN7rU7FRNg05Rdt9Ii3A=s64",
      "userId": "11809607246124237079"
     },
     "user_tz": -660
    },
    "id": "xAqQ7rpV0nkT",
    "outputId": "d059dc0b-ace2-467e-c3cd-8361faf44170"
   },
   "outputs": [
    {
     "data": {
      "text/html": [
       "<div>\n",
       "<style scoped>\n",
       "    .dataframe tbody tr th:only-of-type {\n",
       "        vertical-align: middle;\n",
       "    }\n",
       "\n",
       "    .dataframe tbody tr th {\n",
       "        vertical-align: top;\n",
       "    }\n",
       "\n",
       "    .dataframe thead th {\n",
       "        text-align: right;\n",
       "    }\n",
       "</style>\n",
       "<table border=\"1\" class=\"dataframe\">\n",
       "  <thead>\n",
       "    <tr style=\"text-align: right;\">\n",
       "      <th></th>\n",
       "      <th>trans_id</th>\n",
       "      <th>account_id</th>\n",
       "      <th>date</th>\n",
       "      <th>type</th>\n",
       "      <th>operation</th>\n",
       "      <th>amount</th>\n",
       "      <th>balance</th>\n",
       "      <th>k_symbol</th>\n",
       "      <th>bank</th>\n",
       "      <th>account</th>\n",
       "    </tr>\n",
       "  </thead>\n",
       "  <tbody>\n",
       "    <tr>\n",
       "      <th>0</th>\n",
       "      <td>695247</td>\n",
       "      <td>2378</td>\n",
       "      <td>930101</td>\n",
       "      <td>PRIJEM</td>\n",
       "      <td>VKLAD</td>\n",
       "      <td>700.0</td>\n",
       "      <td>700.0</td>\n",
       "      <td>NaN</td>\n",
       "      <td>NaN</td>\n",
       "      <td>NaN</td>\n",
       "    </tr>\n",
       "    <tr>\n",
       "      <th>1</th>\n",
       "      <td>171812</td>\n",
       "      <td>576</td>\n",
       "      <td>930101</td>\n",
       "      <td>PRIJEM</td>\n",
       "      <td>VKLAD</td>\n",
       "      <td>900.0</td>\n",
       "      <td>900.0</td>\n",
       "      <td>NaN</td>\n",
       "      <td>NaN</td>\n",
       "      <td>NaN</td>\n",
       "    </tr>\n",
       "    <tr>\n",
       "      <th>2</th>\n",
       "      <td>207264</td>\n",
       "      <td>704</td>\n",
       "      <td>930101</td>\n",
       "      <td>PRIJEM</td>\n",
       "      <td>VKLAD</td>\n",
       "      <td>1000.0</td>\n",
       "      <td>1000.0</td>\n",
       "      <td>NaN</td>\n",
       "      <td>NaN</td>\n",
       "      <td>NaN</td>\n",
       "    </tr>\n",
       "    <tr>\n",
       "      <th>3</th>\n",
       "      <td>1117247</td>\n",
       "      <td>3818</td>\n",
       "      <td>930101</td>\n",
       "      <td>PRIJEM</td>\n",
       "      <td>VKLAD</td>\n",
       "      <td>600.0</td>\n",
       "      <td>600.0</td>\n",
       "      <td>NaN</td>\n",
       "      <td>NaN</td>\n",
       "      <td>NaN</td>\n",
       "    </tr>\n",
       "    <tr>\n",
       "      <th>4</th>\n",
       "      <td>579373</td>\n",
       "      <td>1972</td>\n",
       "      <td>930102</td>\n",
       "      <td>PRIJEM</td>\n",
       "      <td>VKLAD</td>\n",
       "      <td>400.0</td>\n",
       "      <td>400.0</td>\n",
       "      <td>NaN</td>\n",
       "      <td>NaN</td>\n",
       "      <td>NaN</td>\n",
       "    </tr>\n",
       "  </tbody>\n",
       "</table>\n",
       "</div>"
      ],
      "text/plain": [
       "   trans_id  account_id    date    type operation  amount  balance k_symbol  \\\n",
       "0    695247        2378  930101  PRIJEM     VKLAD   700.0    700.0      NaN   \n",
       "1    171812         576  930101  PRIJEM     VKLAD   900.0    900.0      NaN   \n",
       "2    207264         704  930101  PRIJEM     VKLAD  1000.0   1000.0      NaN   \n",
       "3   1117247        3818  930101  PRIJEM     VKLAD   600.0    600.0      NaN   \n",
       "4    579373        1972  930102  PRIJEM     VKLAD   400.0    400.0      NaN   \n",
       "\n",
       "  bank  account  \n",
       "0  NaN      NaN  \n",
       "1  NaN      NaN  \n",
       "2  NaN      NaN  \n",
       "3  NaN      NaN  \n",
       "4  NaN      NaN  "
      ]
     },
     "execution_count": 5,
     "metadata": {},
     "output_type": "execute_result"
    }
   ],
   "source": [
    "df_trans.head()"
   ]
  },
  {
   "cell_type": "code",
   "execution_count": 6,
   "metadata": {
    "colab": {
     "base_uri": "https://localhost:8080/",
     "height": 34
    },
    "colab_type": "code",
    "executionInfo": {
     "elapsed": 8701,
     "status": "ok",
     "timestamp": 1574650430654,
     "user": {
      "displayName": "Anthony So",
      "photoUrl": "https://lh3.googleusercontent.com/a-/AAuE7mCYY-iGjUIqBSnlLoszfZTN7rU7FRNg05Rdt9Ii3A=s64",
      "userId": "11809607246124237079"
     },
     "user_tz": -660
    },
    "id": "zybRLGrd2bPf",
    "outputId": "8e1da605-af26-46e1-9bf1-6e5b9a337857"
   },
   "outputs": [
    {
     "data": {
      "text/plain": [
       "(1056320, 10)"
      ]
     },
     "execution_count": 6,
     "metadata": {},
     "output_type": "execute_result"
    }
   ],
   "source": [
    "df_trans.shape"
   ]
  },
  {
   "cell_type": "code",
   "execution_count": 7,
   "metadata": {
    "colab": {
     "base_uri": "https://localhost:8080/",
     "height": 204
    },
    "colab_type": "code",
    "executionInfo": {
     "elapsed": 8696,
     "status": "ok",
     "timestamp": 1574650430655,
     "user": {
      "displayName": "Anthony So",
      "photoUrl": "https://lh3.googleusercontent.com/a-/AAuE7mCYY-iGjUIqBSnlLoszfZTN7rU7FRNg05Rdt9Ii3A=s64",
      "userId": "11809607246124237079"
     },
     "user_tz": -660
    },
    "id": "IvvSvYl42Koi",
    "outputId": "c90574b1-5620-4d6b-e13b-ce8ba5ae66f0"
   },
   "outputs": [
    {
     "data": {
      "text/html": [
       "<div>\n",
       "<style scoped>\n",
       "    .dataframe tbody tr th:only-of-type {\n",
       "        vertical-align: middle;\n",
       "    }\n",
       "\n",
       "    .dataframe tbody tr th {\n",
       "        vertical-align: top;\n",
       "    }\n",
       "\n",
       "    .dataframe thead th {\n",
       "        text-align: right;\n",
       "    }\n",
       "</style>\n",
       "<table border=\"1\" class=\"dataframe\">\n",
       "  <thead>\n",
       "    <tr style=\"text-align: right;\">\n",
       "      <th></th>\n",
       "      <th>account_id</th>\n",
       "      <th>district_id</th>\n",
       "      <th>frequency</th>\n",
       "      <th>date</th>\n",
       "    </tr>\n",
       "  </thead>\n",
       "  <tbody>\n",
       "    <tr>\n",
       "      <th>0</th>\n",
       "      <td>576</td>\n",
       "      <td>55</td>\n",
       "      <td>POPLATEK MESICNE</td>\n",
       "      <td>930101</td>\n",
       "    </tr>\n",
       "    <tr>\n",
       "      <th>1</th>\n",
       "      <td>3818</td>\n",
       "      <td>74</td>\n",
       "      <td>POPLATEK MESICNE</td>\n",
       "      <td>930101</td>\n",
       "    </tr>\n",
       "    <tr>\n",
       "      <th>2</th>\n",
       "      <td>704</td>\n",
       "      <td>55</td>\n",
       "      <td>POPLATEK MESICNE</td>\n",
       "      <td>930101</td>\n",
       "    </tr>\n",
       "    <tr>\n",
       "      <th>3</th>\n",
       "      <td>2378</td>\n",
       "      <td>16</td>\n",
       "      <td>POPLATEK MESICNE</td>\n",
       "      <td>930101</td>\n",
       "    </tr>\n",
       "    <tr>\n",
       "      <th>4</th>\n",
       "      <td>2632</td>\n",
       "      <td>24</td>\n",
       "      <td>POPLATEK MESICNE</td>\n",
       "      <td>930102</td>\n",
       "    </tr>\n",
       "  </tbody>\n",
       "</table>\n",
       "</div>"
      ],
      "text/plain": [
       "   account_id  district_id         frequency    date\n",
       "0         576           55  POPLATEK MESICNE  930101\n",
       "1        3818           74  POPLATEK MESICNE  930101\n",
       "2         704           55  POPLATEK MESICNE  930101\n",
       "3        2378           16  POPLATEK MESICNE  930101\n",
       "4        2632           24  POPLATEK MESICNE  930102"
      ]
     },
     "execution_count": 7,
     "metadata": {},
     "output_type": "execute_result"
    }
   ],
   "source": [
    "df_account.head()"
   ]
  },
  {
   "cell_type": "code",
   "execution_count": 8,
   "metadata": {
    "colab": {},
    "colab_type": "code",
    "id": "Fk2bTvEp17Bp"
   },
   "outputs": [],
   "source": [
    "df_trans_acc = pd.merge(df_trans, df_account, how='left', on='account_id')"
   ]
  },
  {
   "cell_type": "code",
   "execution_count": 9,
   "metadata": {
    "colab": {
     "base_uri": "https://localhost:8080/",
     "height": 34
    },
    "colab_type": "code",
    "executionInfo": {
     "elapsed": 9099,
     "status": "ok",
     "timestamp": 1574650431066,
     "user": {
      "displayName": "Anthony So",
      "photoUrl": "https://lh3.googleusercontent.com/a-/AAuE7mCYY-iGjUIqBSnlLoszfZTN7rU7FRNg05Rdt9Ii3A=s64",
      "userId": "11809607246124237079"
     },
     "user_tz": -660
    },
    "id": "9BN6zHeL2lOx",
    "outputId": "357d0b26-daed-429e-dd5f-7f9c0e5a4a27"
   },
   "outputs": [
    {
     "data": {
      "text/plain": [
       "(1056320, 13)"
      ]
     },
     "execution_count": 9,
     "metadata": {},
     "output_type": "execute_result"
    }
   ],
   "source": [
    "df_trans_acc.shape"
   ]
  },
  {
   "cell_type": "code",
   "execution_count": 10,
   "metadata": {
    "colab": {
     "base_uri": "https://localhost:8080/",
     "height": 204
    },
    "colab_type": "code",
    "executionInfo": {
     "elapsed": 9095,
     "status": "ok",
     "timestamp": 1574650431067,
     "user": {
      "displayName": "Anthony So",
      "photoUrl": "https://lh3.googleusercontent.com/a-/AAuE7mCYY-iGjUIqBSnlLoszfZTN7rU7FRNg05Rdt9Ii3A=s64",
      "userId": "11809607246124237079"
     },
     "user_tz": -660
    },
    "id": "98f8YCkO2q41",
    "outputId": "213b7737-8471-49f8-f25a-7aa78acac4f8"
   },
   "outputs": [
    {
     "data": {
      "text/html": [
       "<div>\n",
       "<style scoped>\n",
       "    .dataframe tbody tr th:only-of-type {\n",
       "        vertical-align: middle;\n",
       "    }\n",
       "\n",
       "    .dataframe tbody tr th {\n",
       "        vertical-align: top;\n",
       "    }\n",
       "\n",
       "    .dataframe thead th {\n",
       "        text-align: right;\n",
       "    }\n",
       "</style>\n",
       "<table border=\"1\" class=\"dataframe\">\n",
       "  <thead>\n",
       "    <tr style=\"text-align: right;\">\n",
       "      <th></th>\n",
       "      <th>disp_id</th>\n",
       "      <th>client_id</th>\n",
       "      <th>account_id</th>\n",
       "      <th>type</th>\n",
       "    </tr>\n",
       "  </thead>\n",
       "  <tbody>\n",
       "    <tr>\n",
       "      <th>0</th>\n",
       "      <td>1</td>\n",
       "      <td>1</td>\n",
       "      <td>1</td>\n",
       "      <td>OWNER</td>\n",
       "    </tr>\n",
       "    <tr>\n",
       "      <th>1</th>\n",
       "      <td>2</td>\n",
       "      <td>2</td>\n",
       "      <td>2</td>\n",
       "      <td>OWNER</td>\n",
       "    </tr>\n",
       "    <tr>\n",
       "      <th>2</th>\n",
       "      <td>3</td>\n",
       "      <td>3</td>\n",
       "      <td>2</td>\n",
       "      <td>DISPONENT</td>\n",
       "    </tr>\n",
       "    <tr>\n",
       "      <th>3</th>\n",
       "      <td>4</td>\n",
       "      <td>4</td>\n",
       "      <td>3</td>\n",
       "      <td>OWNER</td>\n",
       "    </tr>\n",
       "    <tr>\n",
       "      <th>4</th>\n",
       "      <td>5</td>\n",
       "      <td>5</td>\n",
       "      <td>3</td>\n",
       "      <td>DISPONENT</td>\n",
       "    </tr>\n",
       "  </tbody>\n",
       "</table>\n",
       "</div>"
      ],
      "text/plain": [
       "   disp_id  client_id  account_id       type\n",
       "0        1          1           1      OWNER\n",
       "1        2          2           2      OWNER\n",
       "2        3          3           2  DISPONENT\n",
       "3        4          4           3      OWNER\n",
       "4        5          5           3  DISPONENT"
      ]
     },
     "execution_count": 10,
     "metadata": {},
     "output_type": "execute_result"
    }
   ],
   "source": [
    "df_disp.head()"
   ]
  },
  {
   "cell_type": "code",
   "execution_count": 11,
   "metadata": {
    "colab": {},
    "colab_type": "code",
    "id": "ap--Zddi3KYG"
   },
   "outputs": [],
   "source": [
    "df_disp_owner = df_disp[df_disp['type'] == 'OWNER']"
   ]
  },
  {
   "cell_type": "code",
   "execution_count": 12,
   "metadata": {
    "colab": {
     "base_uri": "https://localhost:8080/",
     "height": 34
    },
    "colab_type": "code",
    "executionInfo": {
     "elapsed": 9088,
     "status": "ok",
     "timestamp": 1574650431068,
     "user": {
      "displayName": "Anthony So",
      "photoUrl": "https://lh3.googleusercontent.com/a-/AAuE7mCYY-iGjUIqBSnlLoszfZTN7rU7FRNg05Rdt9Ii3A=s64",
      "userId": "11809607246124237079"
     },
     "user_tz": -660
    },
    "id": "8rvJpD6V3VWU",
    "outputId": "e950a8f3-2d85-4c82-b9b6-d62b6df6cc2d"
   },
   "outputs": [
    {
     "data": {
      "text/plain": [
       "0"
      ]
     },
     "execution_count": 12,
     "metadata": {},
     "output_type": "execute_result"
    }
   ],
   "source": [
    "df_disp_owner.duplicated(subset='account_id').sum()"
   ]
  },
  {
   "cell_type": "code",
   "execution_count": 13,
   "metadata": {
    "colab": {
     "base_uri": "https://localhost:8080/",
     "height": 34
    },
    "colab_type": "code",
    "executionInfo": {
     "elapsed": 9081,
     "status": "ok",
     "timestamp": 1574650431069,
     "user": {
      "displayName": "Anthony So",
      "photoUrl": "https://lh3.googleusercontent.com/a-/AAuE7mCYY-iGjUIqBSnlLoszfZTN7rU7FRNg05Rdt9Ii3A=s64",
      "userId": "11809607246124237079"
     },
     "user_tz": -660
    },
    "id": "aeshCYj63Ezw",
    "outputId": "27de9e85-0643-4997-e318-f3d6bd7b3dd6"
   },
   "outputs": [
    {
     "data": {
      "text/plain": [
       "(1056320, 16)"
      ]
     },
     "execution_count": 13,
     "metadata": {},
     "output_type": "execute_result"
    }
   ],
   "source": [
    "df_trans_acc_disp = pd.merge(df_trans_acc, df_disp_owner, how='left', on='account_id')\n",
    "df_trans_acc_disp.shape"
   ]
  },
  {
   "cell_type": "code",
   "execution_count": 14,
   "metadata": {
    "colab": {
     "base_uri": "https://localhost:8080/",
     "height": 204
    },
    "colab_type": "code",
    "executionInfo": {
     "elapsed": 9076,
     "status": "ok",
     "timestamp": 1574650431070,
     "user": {
      "displayName": "Anthony So",
      "photoUrl": "https://lh3.googleusercontent.com/a-/AAuE7mCYY-iGjUIqBSnlLoszfZTN7rU7FRNg05Rdt9Ii3A=s64",
      "userId": "11809607246124237079"
     },
     "user_tz": -660
    },
    "id": "J-_jUOwP3GGJ",
    "outputId": "3b19d650-c852-41d9-fa99-7123158a34ce"
   },
   "outputs": [
    {
     "data": {
      "text/html": [
       "<div>\n",
       "<style scoped>\n",
       "    .dataframe tbody tr th:only-of-type {\n",
       "        vertical-align: middle;\n",
       "    }\n",
       "\n",
       "    .dataframe tbody tr th {\n",
       "        vertical-align: top;\n",
       "    }\n",
       "\n",
       "    .dataframe thead th {\n",
       "        text-align: right;\n",
       "    }\n",
       "</style>\n",
       "<table border=\"1\" class=\"dataframe\">\n",
       "  <thead>\n",
       "    <tr style=\"text-align: right;\">\n",
       "      <th></th>\n",
       "      <th>client_id</th>\n",
       "      <th>birth_number</th>\n",
       "      <th>district_id</th>\n",
       "    </tr>\n",
       "  </thead>\n",
       "  <tbody>\n",
       "    <tr>\n",
       "      <th>0</th>\n",
       "      <td>1</td>\n",
       "      <td>706213</td>\n",
       "      <td>18</td>\n",
       "    </tr>\n",
       "    <tr>\n",
       "      <th>1</th>\n",
       "      <td>2</td>\n",
       "      <td>450204</td>\n",
       "      <td>1</td>\n",
       "    </tr>\n",
       "    <tr>\n",
       "      <th>2</th>\n",
       "      <td>3</td>\n",
       "      <td>406009</td>\n",
       "      <td>1</td>\n",
       "    </tr>\n",
       "    <tr>\n",
       "      <th>3</th>\n",
       "      <td>4</td>\n",
       "      <td>561201</td>\n",
       "      <td>5</td>\n",
       "    </tr>\n",
       "    <tr>\n",
       "      <th>4</th>\n",
       "      <td>5</td>\n",
       "      <td>605703</td>\n",
       "      <td>5</td>\n",
       "    </tr>\n",
       "  </tbody>\n",
       "</table>\n",
       "</div>"
      ],
      "text/plain": [
       "   client_id  birth_number  district_id\n",
       "0          1        706213           18\n",
       "1          2        450204            1\n",
       "2          3        406009            1\n",
       "3          4        561201            5\n",
       "4          5        605703            5"
      ]
     },
     "execution_count": 14,
     "metadata": {},
     "output_type": "execute_result"
    }
   ],
   "source": [
    "df_client.head()"
   ]
  },
  {
   "cell_type": "code",
   "execution_count": 15,
   "metadata": {},
   "outputs": [
    {
     "data": {
      "text/html": [
       "<div>\n",
       "<style scoped>\n",
       "    .dataframe tbody tr th:only-of-type {\n",
       "        vertical-align: middle;\n",
       "    }\n",
       "\n",
       "    .dataframe tbody tr th {\n",
       "        vertical-align: top;\n",
       "    }\n",
       "\n",
       "    .dataframe thead th {\n",
       "        text-align: right;\n",
       "    }\n",
       "</style>\n",
       "<table border=\"1\" class=\"dataframe\">\n",
       "  <thead>\n",
       "    <tr style=\"text-align: right;\">\n",
       "      <th></th>\n",
       "      <th>client_id</th>\n",
       "      <th>birth_number</th>\n",
       "      <th>district_id</th>\n",
       "    </tr>\n",
       "  </thead>\n",
       "  <tbody>\n",
       "    <tr>\n",
       "      <th>4079</th>\n",
       "      <td>4310</td>\n",
       "      <td>255530</td>\n",
       "      <td>65</td>\n",
       "    </tr>\n",
       "    <tr>\n",
       "      <th>2402</th>\n",
       "      <td>2531</td>\n",
       "      <td>545124</td>\n",
       "      <td>5</td>\n",
       "    </tr>\n",
       "    <tr>\n",
       "      <th>139</th>\n",
       "      <td>149</td>\n",
       "      <td>480627</td>\n",
       "      <td>55</td>\n",
       "    </tr>\n",
       "    <tr>\n",
       "      <th>4744</th>\n",
       "      <td>5539</td>\n",
       "      <td>350605</td>\n",
       "      <td>74</td>\n",
       "    </tr>\n",
       "    <tr>\n",
       "      <th>389</th>\n",
       "      <td>410</td>\n",
       "      <td>621220</td>\n",
       "      <td>62</td>\n",
       "    </tr>\n",
       "    <tr>\n",
       "      <th>5275</th>\n",
       "      <td>12729</td>\n",
       "      <td>680321</td>\n",
       "      <td>36</td>\n",
       "    </tr>\n",
       "    <tr>\n",
       "      <th>3147</th>\n",
       "      <td>3323</td>\n",
       "      <td>815222</td>\n",
       "      <td>74</td>\n",
       "    </tr>\n",
       "    <tr>\n",
       "      <th>2374</th>\n",
       "      <td>2503</td>\n",
       "      <td>775923</td>\n",
       "      <td>54</td>\n",
       "    </tr>\n",
       "    <tr>\n",
       "      <th>4410</th>\n",
       "      <td>4665</td>\n",
       "      <td>265827</td>\n",
       "      <td>9</td>\n",
       "    </tr>\n",
       "    <tr>\n",
       "      <th>4221</th>\n",
       "      <td>4464</td>\n",
       "      <td>641119</td>\n",
       "      <td>53</td>\n",
       "    </tr>\n",
       "  </tbody>\n",
       "</table>\n",
       "</div>"
      ],
      "text/plain": [
       "      client_id  birth_number  district_id\n",
       "4079       4310        255530           65\n",
       "2402       2531        545124            5\n",
       "139         149        480627           55\n",
       "4744       5539        350605           74\n",
       "389         410        621220           62\n",
       "5275      12729        680321           36\n",
       "3147       3323        815222           74\n",
       "2374       2503        775923           54\n",
       "4410       4665        265827            9\n",
       "4221       4464        641119           53"
      ]
     },
     "execution_count": 15,
     "metadata": {},
     "output_type": "execute_result"
    }
   ],
   "source": [
    "df_client.sample(10)"
   ]
  },
  {
   "cell_type": "code",
   "execution_count": 16,
   "metadata": {
    "colab": {
     "base_uri": "https://localhost:8080/",
     "height": 34
    },
    "colab_type": "code",
    "executionInfo": {
     "elapsed": 9440,
     "status": "ok",
     "timestamp": 1574650431439,
     "user": {
      "displayName": "Anthony So",
      "photoUrl": "https://lh3.googleusercontent.com/a-/AAuE7mCYY-iGjUIqBSnlLoszfZTN7rU7FRNg05Rdt9Ii3A=s64",
      "userId": "11809607246124237079"
     },
     "user_tz": -660
    },
    "id": "35JidayO4C5X",
    "outputId": "da451ba8-56fd-4d66-f147-5d3c8f817991"
   },
   "outputs": [
    {
     "data": {
      "text/plain": [
       "(1056320, 17)"
      ]
     },
     "execution_count": 16,
     "metadata": {},
     "output_type": "execute_result"
    }
   ],
   "source": [
    "df_merged = pd.merge(df_trans_acc_disp, df_client, how='left', on=['client_id', 'district_id'])\n",
    "df_merged.shape"
   ]
  },
  {
   "cell_type": "code",
   "execution_count": 17,
   "metadata": {
    "colab": {
     "base_uri": "https://localhost:8080/",
     "height": 85
    },
    "colab_type": "code",
    "executionInfo": {
     "elapsed": 9436,
     "status": "ok",
     "timestamp": 1574650431440,
     "user": {
      "displayName": "Anthony So",
      "photoUrl": "https://lh3.googleusercontent.com/a-/AAuE7mCYY-iGjUIqBSnlLoszfZTN7rU7FRNg05Rdt9Ii3A=s64",
      "userId": "11809607246124237079"
     },
     "user_tz": -660
    },
    "id": "8wGMCNV547RR",
    "outputId": "1069eb5a-7f28-47b4-8cf5-aa03fee7eac9"
   },
   "outputs": [
    {
     "data": {
      "text/plain": [
       "Index(['trans_id', 'account_id', 'date_x', 'type_x', 'operation', 'amount',\n",
       "       'balance', 'k_symbol', 'bank', 'account', 'district_id', 'frequency',\n",
       "       'date_y', 'disp_id', 'client_id', 'type_y', 'birth_number'],\n",
       "      dtype='object')"
      ]
     },
     "execution_count": 17,
     "metadata": {},
     "output_type": "execute_result"
    }
   ],
   "source": [
    "df_merged.columns"
   ]
  },
  {
   "cell_type": "code",
   "execution_count": 18,
   "metadata": {
    "colab": {},
    "colab_type": "code",
    "id": "2oyeYQnB5ODm"
   },
   "outputs": [],
   "source": [
    "df_merged.rename(columns={'date_x': 'trans_date', 'type_x': 'trans_type', 'date_y':'account_creation', 'type_y':'client_type'}, inplace=True)"
   ]
  },
  {
   "cell_type": "code",
   "execution_count": 19,
   "metadata": {
    "colab": {
     "base_uri": "https://localhost:8080/",
     "height": 309
    },
    "colab_type": "code",
    "executionInfo": {
     "elapsed": 9997,
     "status": "ok",
     "timestamp": 1574650432011,
     "user": {
      "displayName": "Anthony So",
      "photoUrl": "https://lh3.googleusercontent.com/a-/AAuE7mCYY-iGjUIqBSnlLoszfZTN7rU7FRNg05Rdt9Ii3A=s64",
      "userId": "11809607246124237079"
     },
     "user_tz": -660
    },
    "id": "tiPA68we6G-v",
    "outputId": "be267f16-4953-459f-a9d9-2139b91f4f31"
   },
   "outputs": [
    {
     "data": {
      "text/html": [
       "<div>\n",
       "<style scoped>\n",
       "    .dataframe tbody tr th:only-of-type {\n",
       "        vertical-align: middle;\n",
       "    }\n",
       "\n",
       "    .dataframe tbody tr th {\n",
       "        vertical-align: top;\n",
       "    }\n",
       "\n",
       "    .dataframe thead th {\n",
       "        text-align: right;\n",
       "    }\n",
       "</style>\n",
       "<table border=\"1\" class=\"dataframe\">\n",
       "  <thead>\n",
       "    <tr style=\"text-align: right;\">\n",
       "      <th></th>\n",
       "      <th>trans_id</th>\n",
       "      <th>account_id</th>\n",
       "      <th>trans_date</th>\n",
       "      <th>trans_type</th>\n",
       "      <th>operation</th>\n",
       "      <th>amount</th>\n",
       "      <th>balance</th>\n",
       "      <th>k_symbol</th>\n",
       "      <th>bank</th>\n",
       "      <th>account</th>\n",
       "      <th>district_id</th>\n",
       "      <th>frequency</th>\n",
       "      <th>account_creation</th>\n",
       "      <th>disp_id</th>\n",
       "      <th>client_id</th>\n",
       "      <th>client_type</th>\n",
       "      <th>birth_number</th>\n",
       "    </tr>\n",
       "  </thead>\n",
       "  <tbody>\n",
       "    <tr>\n",
       "      <th>0</th>\n",
       "      <td>695247</td>\n",
       "      <td>2378</td>\n",
       "      <td>930101</td>\n",
       "      <td>PRIJEM</td>\n",
       "      <td>VKLAD</td>\n",
       "      <td>700.0</td>\n",
       "      <td>700.0</td>\n",
       "      <td>NaN</td>\n",
       "      <td>NaN</td>\n",
       "      <td>NaN</td>\n",
       "      <td>16</td>\n",
       "      <td>POPLATEK MESICNE</td>\n",
       "      <td>930101</td>\n",
       "      <td>2873</td>\n",
       "      <td>2873</td>\n",
       "      <td>OWNER</td>\n",
       "      <td>755324.0</td>\n",
       "    </tr>\n",
       "    <tr>\n",
       "      <th>1</th>\n",
       "      <td>171812</td>\n",
       "      <td>576</td>\n",
       "      <td>930101</td>\n",
       "      <td>PRIJEM</td>\n",
       "      <td>VKLAD</td>\n",
       "      <td>900.0</td>\n",
       "      <td>900.0</td>\n",
       "      <td>NaN</td>\n",
       "      <td>NaN</td>\n",
       "      <td>NaN</td>\n",
       "      <td>55</td>\n",
       "      <td>POPLATEK MESICNE</td>\n",
       "      <td>930101</td>\n",
       "      <td>692</td>\n",
       "      <td>692</td>\n",
       "      <td>OWNER</td>\n",
       "      <td>NaN</td>\n",
       "    </tr>\n",
       "    <tr>\n",
       "      <th>2</th>\n",
       "      <td>207264</td>\n",
       "      <td>704</td>\n",
       "      <td>930101</td>\n",
       "      <td>PRIJEM</td>\n",
       "      <td>VKLAD</td>\n",
       "      <td>1000.0</td>\n",
       "      <td>1000.0</td>\n",
       "      <td>NaN</td>\n",
       "      <td>NaN</td>\n",
       "      <td>NaN</td>\n",
       "      <td>55</td>\n",
       "      <td>POPLATEK MESICNE</td>\n",
       "      <td>930101</td>\n",
       "      <td>844</td>\n",
       "      <td>844</td>\n",
       "      <td>OWNER</td>\n",
       "      <td>NaN</td>\n",
       "    </tr>\n",
       "    <tr>\n",
       "      <th>3</th>\n",
       "      <td>1117247</td>\n",
       "      <td>3818</td>\n",
       "      <td>930101</td>\n",
       "      <td>PRIJEM</td>\n",
       "      <td>VKLAD</td>\n",
       "      <td>600.0</td>\n",
       "      <td>600.0</td>\n",
       "      <td>NaN</td>\n",
       "      <td>NaN</td>\n",
       "      <td>NaN</td>\n",
       "      <td>74</td>\n",
       "      <td>POPLATEK MESICNE</td>\n",
       "      <td>930101</td>\n",
       "      <td>4601</td>\n",
       "      <td>4601</td>\n",
       "      <td>OWNER</td>\n",
       "      <td>NaN</td>\n",
       "    </tr>\n",
       "    <tr>\n",
       "      <th>4</th>\n",
       "      <td>579373</td>\n",
       "      <td>1972</td>\n",
       "      <td>930102</td>\n",
       "      <td>PRIJEM</td>\n",
       "      <td>VKLAD</td>\n",
       "      <td>400.0</td>\n",
       "      <td>400.0</td>\n",
       "      <td>NaN</td>\n",
       "      <td>NaN</td>\n",
       "      <td>NaN</td>\n",
       "      <td>77</td>\n",
       "      <td>POPLATEK MESICNE</td>\n",
       "      <td>930102</td>\n",
       "      <td>2397</td>\n",
       "      <td>2397</td>\n",
       "      <td>OWNER</td>\n",
       "      <td>NaN</td>\n",
       "    </tr>\n",
       "  </tbody>\n",
       "</table>\n",
       "</div>"
      ],
      "text/plain": [
       "   trans_id  account_id  trans_date trans_type operation  amount  balance  \\\n",
       "0    695247        2378      930101     PRIJEM     VKLAD   700.0    700.0   \n",
       "1    171812         576      930101     PRIJEM     VKLAD   900.0    900.0   \n",
       "2    207264         704      930101     PRIJEM     VKLAD  1000.0   1000.0   \n",
       "3   1117247        3818      930101     PRIJEM     VKLAD   600.0    600.0   \n",
       "4    579373        1972      930102     PRIJEM     VKLAD   400.0    400.0   \n",
       "\n",
       "  k_symbol bank  account  district_id         frequency  account_creation  \\\n",
       "0      NaN  NaN      NaN           16  POPLATEK MESICNE            930101   \n",
       "1      NaN  NaN      NaN           55  POPLATEK MESICNE            930101   \n",
       "2      NaN  NaN      NaN           55  POPLATEK MESICNE            930101   \n",
       "3      NaN  NaN      NaN           74  POPLATEK MESICNE            930101   \n",
       "4      NaN  NaN      NaN           77  POPLATEK MESICNE            930102   \n",
       "\n",
       "   disp_id  client_id client_type  birth_number  \n",
       "0     2873       2873       OWNER      755324.0  \n",
       "1      692        692       OWNER           NaN  \n",
       "2      844        844       OWNER           NaN  \n",
       "3     4601       4601       OWNER           NaN  \n",
       "4     2397       2397       OWNER           NaN  "
      ]
     },
     "execution_count": 19,
     "metadata": {},
     "output_type": "execute_result"
    }
   ],
   "source": [
    "df_merged.head()"
   ]
  },
  {
   "cell_type": "code",
   "execution_count": 20,
   "metadata": {
    "colab": {
     "base_uri": "https://localhost:8080/",
     "height": 323
    },
    "colab_type": "code",
    "executionInfo": {
     "elapsed": 9993,
     "status": "ok",
     "timestamp": 1574650432012,
     "user": {
      "displayName": "Anthony So",
      "photoUrl": "https://lh3.googleusercontent.com/a-/AAuE7mCYY-iGjUIqBSnlLoszfZTN7rU7FRNg05Rdt9Ii3A=s64",
      "userId": "11809607246124237079"
     },
     "user_tz": -660
    },
    "id": "GV_1Jh4H6Qy4",
    "outputId": "e0a7024c-8bc7-429c-a4c8-c012c21347fc"
   },
   "outputs": [
    {
     "data": {
      "text/plain": [
       "trans_id              int64\n",
       "account_id            int64\n",
       "trans_date            int64\n",
       "trans_type           object\n",
       "operation            object\n",
       "amount              float64\n",
       "balance             float64\n",
       "k_symbol             object\n",
       "bank                 object\n",
       "account             float64\n",
       "district_id           int64\n",
       "frequency            object\n",
       "account_creation      int64\n",
       "disp_id               int64\n",
       "client_id             int64\n",
       "client_type          object\n",
       "birth_number        float64\n",
       "dtype: object"
      ]
     },
     "execution_count": 20,
     "metadata": {},
     "output_type": "execute_result"
    }
   ],
   "source": [
    "df_merged.dtypes"
   ]
  },
  {
   "cell_type": "code",
   "execution_count": 21,
   "metadata": {},
   "outputs": [],
   "source": [
    "# Start here with your merged data types"
   ]
  },
  {
   "cell_type": "code",
   "execution_count": 22,
   "metadata": {},
   "outputs": [
    {
     "data": {
      "text/html": [
       "<div>\n",
       "<style scoped>\n",
       "    .dataframe tbody tr th:only-of-type {\n",
       "        vertical-align: middle;\n",
       "    }\n",
       "\n",
       "    .dataframe tbody tr th {\n",
       "        vertical-align: top;\n",
       "    }\n",
       "\n",
       "    .dataframe thead th {\n",
       "        text-align: right;\n",
       "    }\n",
       "</style>\n",
       "<table border=\"1\" class=\"dataframe\">\n",
       "  <thead>\n",
       "    <tr style=\"text-align: right;\">\n",
       "      <th></th>\n",
       "      <th>trans_id</th>\n",
       "      <th>account_id</th>\n",
       "      <th>trans_date</th>\n",
       "      <th>trans_type</th>\n",
       "      <th>operation</th>\n",
       "      <th>amount</th>\n",
       "      <th>balance</th>\n",
       "      <th>k_symbol</th>\n",
       "      <th>bank</th>\n",
       "      <th>account</th>\n",
       "      <th>district_id</th>\n",
       "      <th>frequency</th>\n",
       "      <th>account_creation</th>\n",
       "      <th>disp_id</th>\n",
       "      <th>client_id</th>\n",
       "      <th>client_type</th>\n",
       "      <th>birth_number</th>\n",
       "    </tr>\n",
       "  </thead>\n",
       "  <tbody>\n",
       "    <tr>\n",
       "      <th>0</th>\n",
       "      <td>695247</td>\n",
       "      <td>2378</td>\n",
       "      <td>930101</td>\n",
       "      <td>PRIJEM</td>\n",
       "      <td>VKLAD</td>\n",
       "      <td>700.0</td>\n",
       "      <td>700.0</td>\n",
       "      <td>NaN</td>\n",
       "      <td>NaN</td>\n",
       "      <td>NaN</td>\n",
       "      <td>16</td>\n",
       "      <td>POPLATEK MESICNE</td>\n",
       "      <td>930101</td>\n",
       "      <td>2873</td>\n",
       "      <td>2873</td>\n",
       "      <td>OWNER</td>\n",
       "      <td>755324.0</td>\n",
       "    </tr>\n",
       "    <tr>\n",
       "      <th>1</th>\n",
       "      <td>171812</td>\n",
       "      <td>576</td>\n",
       "      <td>930101</td>\n",
       "      <td>PRIJEM</td>\n",
       "      <td>VKLAD</td>\n",
       "      <td>900.0</td>\n",
       "      <td>900.0</td>\n",
       "      <td>NaN</td>\n",
       "      <td>NaN</td>\n",
       "      <td>NaN</td>\n",
       "      <td>55</td>\n",
       "      <td>POPLATEK MESICNE</td>\n",
       "      <td>930101</td>\n",
       "      <td>692</td>\n",
       "      <td>692</td>\n",
       "      <td>OWNER</td>\n",
       "      <td>NaN</td>\n",
       "    </tr>\n",
       "    <tr>\n",
       "      <th>2</th>\n",
       "      <td>207264</td>\n",
       "      <td>704</td>\n",
       "      <td>930101</td>\n",
       "      <td>PRIJEM</td>\n",
       "      <td>VKLAD</td>\n",
       "      <td>1000.0</td>\n",
       "      <td>1000.0</td>\n",
       "      <td>NaN</td>\n",
       "      <td>NaN</td>\n",
       "      <td>NaN</td>\n",
       "      <td>55</td>\n",
       "      <td>POPLATEK MESICNE</td>\n",
       "      <td>930101</td>\n",
       "      <td>844</td>\n",
       "      <td>844</td>\n",
       "      <td>OWNER</td>\n",
       "      <td>NaN</td>\n",
       "    </tr>\n",
       "    <tr>\n",
       "      <th>3</th>\n",
       "      <td>1117247</td>\n",
       "      <td>3818</td>\n",
       "      <td>930101</td>\n",
       "      <td>PRIJEM</td>\n",
       "      <td>VKLAD</td>\n",
       "      <td>600.0</td>\n",
       "      <td>600.0</td>\n",
       "      <td>NaN</td>\n",
       "      <td>NaN</td>\n",
       "      <td>NaN</td>\n",
       "      <td>74</td>\n",
       "      <td>POPLATEK MESICNE</td>\n",
       "      <td>930101</td>\n",
       "      <td>4601</td>\n",
       "      <td>4601</td>\n",
       "      <td>OWNER</td>\n",
       "      <td>NaN</td>\n",
       "    </tr>\n",
       "    <tr>\n",
       "      <th>4</th>\n",
       "      <td>579373</td>\n",
       "      <td>1972</td>\n",
       "      <td>930102</td>\n",
       "      <td>PRIJEM</td>\n",
       "      <td>VKLAD</td>\n",
       "      <td>400.0</td>\n",
       "      <td>400.0</td>\n",
       "      <td>NaN</td>\n",
       "      <td>NaN</td>\n",
       "      <td>NaN</td>\n",
       "      <td>77</td>\n",
       "      <td>POPLATEK MESICNE</td>\n",
       "      <td>930102</td>\n",
       "      <td>2397</td>\n",
       "      <td>2397</td>\n",
       "      <td>OWNER</td>\n",
       "      <td>NaN</td>\n",
       "    </tr>\n",
       "  </tbody>\n",
       "</table>\n",
       "</div>"
      ],
      "text/plain": [
       "   trans_id  account_id  trans_date trans_type operation  amount  balance  \\\n",
       "0    695247        2378      930101     PRIJEM     VKLAD   700.0    700.0   \n",
       "1    171812         576      930101     PRIJEM     VKLAD   900.0    900.0   \n",
       "2    207264         704      930101     PRIJEM     VKLAD  1000.0   1000.0   \n",
       "3   1117247        3818      930101     PRIJEM     VKLAD   600.0    600.0   \n",
       "4    579373        1972      930102     PRIJEM     VKLAD   400.0    400.0   \n",
       "\n",
       "  k_symbol bank  account  district_id         frequency  account_creation  \\\n",
       "0      NaN  NaN      NaN           16  POPLATEK MESICNE            930101   \n",
       "1      NaN  NaN      NaN           55  POPLATEK MESICNE            930101   \n",
       "2      NaN  NaN      NaN           55  POPLATEK MESICNE            930101   \n",
       "3      NaN  NaN      NaN           74  POPLATEK MESICNE            930101   \n",
       "4      NaN  NaN      NaN           77  POPLATEK MESICNE            930102   \n",
       "\n",
       "   disp_id  client_id client_type  birth_number  \n",
       "0     2873       2873       OWNER      755324.0  \n",
       "1      692        692       OWNER           NaN  \n",
       "2      844        844       OWNER           NaN  \n",
       "3     4601       4601       OWNER           NaN  \n",
       "4     2397       2397       OWNER           NaN  "
      ]
     },
     "execution_count": 22,
     "metadata": {},
     "output_type": "execute_result"
    }
   ],
   "source": [
    "df_merged.head()"
   ]
  },
  {
   "cell_type": "code",
   "execution_count": 23,
   "metadata": {},
   "outputs": [
    {
     "data": {
      "text/plain": [
       "0"
      ]
     },
     "execution_count": 23,
     "metadata": {},
     "output_type": "execute_result"
    }
   ],
   "source": [
    "df_merged.duplicated().sum()"
   ]
  },
  {
   "cell_type": "code",
   "execution_count": 24,
   "metadata": {},
   "outputs": [],
   "source": [
    "#Transform the data type for date columns using .to_datetime()."
   ]
  },
  {
   "cell_type": "code",
   "execution_count": 28,
   "metadata": {},
   "outputs": [],
   "source": [
    "df_merged['Date'] = pd.to_datetime(df_merged['trans_date'])"
   ]
  },
  {
   "cell_type": "code",
   "execution_count": 29,
   "metadata": {},
   "outputs": [
    {
     "data": {
      "text/plain": [
       "0         1970-01-01 00:00:00.000930101\n",
       "1         1970-01-01 00:00:00.000930101\n",
       "2         1970-01-01 00:00:00.000930101\n",
       "3         1970-01-01 00:00:00.000930101\n",
       "4         1970-01-01 00:00:00.000930102\n",
       "                       ...             \n",
       "1056315   1970-01-01 00:00:00.000981231\n",
       "1056316   1970-01-01 00:00:00.000981231\n",
       "1056317   1970-01-01 00:00:00.000981231\n",
       "1056318   1970-01-01 00:00:00.000981231\n",
       "1056319   1970-01-01 00:00:00.000981231\n",
       "Name: Date, Length: 1056320, dtype: datetime64[ns]"
      ]
     },
     "execution_count": 29,
     "metadata": {},
     "output_type": "execute_result"
    }
   ],
   "source": [
    "df_merged['Date']"
   ]
  },
  {
   "cell_type": "code",
   "execution_count": 30,
   "metadata": {},
   "outputs": [
    {
     "data": {
      "text/plain": [
       "trans_id                     int64\n",
       "account_id                   int64\n",
       "trans_date                   int64\n",
       "trans_type                  object\n",
       "operation                   object\n",
       "amount                     float64\n",
       "balance                    float64\n",
       "k_symbol                    object\n",
       "bank                        object\n",
       "account                    float64\n",
       "district_id                  int64\n",
       "frequency                   object\n",
       "account_creation             int64\n",
       "disp_id                      int64\n",
       "client_id                    int64\n",
       "client_type                 object\n",
       "birth_number               float64\n",
       "Date                datetime64[ns]\n",
       "dtype: object"
      ]
     },
     "execution_count": 30,
     "metadata": {},
     "output_type": "execute_result"
    }
   ],
   "source": [
    "df_merged.dtypes"
   ]
  },
  {
   "cell_type": "code",
   "execution_count": 31,
   "metadata": {},
   "outputs": [
    {
     "data": {
      "text/plain": [
       "1014444    735518.0\n",
       "470609     505108.0\n",
       "745204     650318.0\n",
       "872570     400319.0\n",
       "802122     591128.0\n",
       "116882     640828.0\n",
       "930752     735410.0\n",
       "892320     441215.0\n",
       "708018     406104.0\n",
       "3410       475601.0\n",
       "106479     420101.0\n",
       "835172     515324.0\n",
       "1007820    421029.0\n",
       "123663     750305.0\n",
       "21972           NaN\n",
       "163893     726227.0\n",
       "955624          NaN\n",
       "1002869    715324.0\n",
       "344114     491013.0\n",
       "815469     445612.0\n",
       "Name: birth_number, dtype: float64"
      ]
     },
     "execution_count": 31,
     "metadata": {},
     "output_type": "execute_result"
    }
   ],
   "source": [
    "df_merged['birth_number'].sample(20)"
   ]
  },
  {
   "cell_type": "code",
   "execution_count": 70,
   "metadata": {},
   "outputs": [],
   "source": [
    "df['female'] = df['birth_number']"
   ]
  },
  {
   "cell_type": "code",
   "execution_count": 71,
   "metadata": {},
   "outputs": [
    {
     "data": {
      "text/html": [
       "<div>\n",
       "<style scoped>\n",
       "    .dataframe tbody tr th:only-of-type {\n",
       "        vertical-align: middle;\n",
       "    }\n",
       "\n",
       "    .dataframe tbody tr th {\n",
       "        vertical-align: top;\n",
       "    }\n",
       "\n",
       "    .dataframe thead th {\n",
       "        text-align: right;\n",
       "    }\n",
       "</style>\n",
       "<table border=\"1\" class=\"dataframe\">\n",
       "  <thead>\n",
       "    <tr style=\"text-align: right;\">\n",
       "      <th></th>\n",
       "      <th>trans_id</th>\n",
       "      <th>account_id</th>\n",
       "      <th>trans_date</th>\n",
       "      <th>trans_type</th>\n",
       "      <th>operation</th>\n",
       "      <th>amount</th>\n",
       "      <th>balance</th>\n",
       "      <th>k_symbol</th>\n",
       "      <th>bank</th>\n",
       "      <th>account</th>\n",
       "      <th>district_id</th>\n",
       "      <th>frequency</th>\n",
       "      <th>account_creation</th>\n",
       "      <th>disp_id</th>\n",
       "      <th>client_id</th>\n",
       "      <th>client_type</th>\n",
       "      <th>birth_number</th>\n",
       "      <th>Date</th>\n",
       "      <th>female</th>\n",
       "      <th>male</th>\n",
       "    </tr>\n",
       "  </thead>\n",
       "  <tbody>\n",
       "    <tr>\n",
       "      <th>1041037</th>\n",
       "      <td>330025</td>\n",
       "      <td>1125</td>\n",
       "      <td>981210</td>\n",
       "      <td>PRIJEM</td>\n",
       "      <td>VKLAD</td>\n",
       "      <td>5751.0</td>\n",
       "      <td>24617.0</td>\n",
       "      <td>NaN</td>\n",
       "      <td>NaN</td>\n",
       "      <td>NaN</td>\n",
       "      <td>1</td>\n",
       "      <td>POPLATEK TYDNE</td>\n",
       "      <td>971121</td>\n",
       "      <td>1350</td>\n",
       "      <td>1350</td>\n",
       "      <td>OWNER</td>\n",
       "      <td>590428.0</td>\n",
       "      <td>1970-01-01 00:00:00.000981210</td>\n",
       "      <td>750324.0</td>\n",
       "      <td>220720.0</td>\n",
       "    </tr>\n",
       "    <tr>\n",
       "      <th>774460</th>\n",
       "      <td>477508</td>\n",
       "      <td>1627</td>\n",
       "      <td>980131</td>\n",
       "      <td>VYDAJ</td>\n",
       "      <td>VYBER</td>\n",
       "      <td>14.6</td>\n",
       "      <td>34590.7</td>\n",
       "      <td>SLUZBY</td>\n",
       "      <td>NaN</td>\n",
       "      <td>NaN</td>\n",
       "      <td>1</td>\n",
       "      <td>POPLATEK MESICNE</td>\n",
       "      <td>940120</td>\n",
       "      <td>1972</td>\n",
       "      <td>1972</td>\n",
       "      <td>OWNER</td>\n",
       "      <td>465429.0</td>\n",
       "      <td>1970-01-01 00:00:00.000980131</td>\n",
       "      <td>750324.0</td>\n",
       "      <td>220720.0</td>\n",
       "    </tr>\n",
       "    <tr>\n",
       "      <th>870734</th>\n",
       "      <td>977041</td>\n",
       "      <td>3329</td>\n",
       "      <td>980531</td>\n",
       "      <td>VYDAJ</td>\n",
       "      <td>VYBER</td>\n",
       "      <td>14.6</td>\n",
       "      <td>45238.9</td>\n",
       "      <td>SLUZBY</td>\n",
       "      <td>NaN</td>\n",
       "      <td>NaN</td>\n",
       "      <td>3</td>\n",
       "      <td>POPLATEK MESICNE</td>\n",
       "      <td>961012</td>\n",
       "      <td>4024</td>\n",
       "      <td>4024</td>\n",
       "      <td>OWNER</td>\n",
       "      <td>641016.0</td>\n",
       "      <td>1970-01-01 00:00:00.000980531</td>\n",
       "      <td>750324.0</td>\n",
       "      <td>220720.0</td>\n",
       "    </tr>\n",
       "    <tr>\n",
       "      <th>228941</th>\n",
       "      <td>1062105</td>\n",
       "      <td>3629</td>\n",
       "      <td>951107</td>\n",
       "      <td>VYDAJ</td>\n",
       "      <td>PREVOD NA UCET</td>\n",
       "      <td>1894.0</td>\n",
       "      <td>19774.6</td>\n",
       "      <td>SIPO</td>\n",
       "      <td>CD</td>\n",
       "      <td>72661483.0</td>\n",
       "      <td>48</td>\n",
       "      <td>POPLATEK MESICNE</td>\n",
       "      <td>930727</td>\n",
       "      <td>4377</td>\n",
       "      <td>4377</td>\n",
       "      <td>OWNER</td>\n",
       "      <td>780131.0</td>\n",
       "      <td>1970-01-01 00:00:00.000951107</td>\n",
       "      <td>750324.0</td>\n",
       "      <td>220720.0</td>\n",
       "    </tr>\n",
       "    <tr>\n",
       "      <th>495577</th>\n",
       "      <td>3559324</td>\n",
       "      <td>882</td>\n",
       "      <td>970228</td>\n",
       "      <td>PRIJEM</td>\n",
       "      <td>NaN</td>\n",
       "      <td>77.1</td>\n",
       "      <td>17376.0</td>\n",
       "      <td>UROK</td>\n",
       "      <td>NaN</td>\n",
       "      <td>NaN</td>\n",
       "      <td>9</td>\n",
       "      <td>POPLATEK MESICNE</td>\n",
       "      <td>930306</td>\n",
       "      <td>1062</td>\n",
       "      <td>1062</td>\n",
       "      <td>OWNER</td>\n",
       "      <td>NaN</td>\n",
       "      <td>1970-01-01 00:00:00.000970228</td>\n",
       "      <td>750324.0</td>\n",
       "      <td>220720.0</td>\n",
       "    </tr>\n",
       "    <tr>\n",
       "      <th>795586</th>\n",
       "      <td>371717</td>\n",
       "      <td>1266</td>\n",
       "      <td>980228</td>\n",
       "      <td>VYDAJ</td>\n",
       "      <td>VYBER</td>\n",
       "      <td>14.6</td>\n",
       "      <td>29088.8</td>\n",
       "      <td>SLUZBY</td>\n",
       "      <td>NaN</td>\n",
       "      <td>NaN</td>\n",
       "      <td>57</td>\n",
       "      <td>POPLATEK MESICNE</td>\n",
       "      <td>960701</td>\n",
       "      <td>1528</td>\n",
       "      <td>1528</td>\n",
       "      <td>OWNER</td>\n",
       "      <td>640320.0</td>\n",
       "      <td>1970-01-01 00:00:00.000980228</td>\n",
       "      <td>750324.0</td>\n",
       "      <td>220720.0</td>\n",
       "    </tr>\n",
       "    <tr>\n",
       "      <th>862108</th>\n",
       "      <td>337586</td>\n",
       "      <td>1146</td>\n",
       "      <td>980513</td>\n",
       "      <td>VYDAJ</td>\n",
       "      <td>PREVOD NA UCET</td>\n",
       "      <td>3437.0</td>\n",
       "      <td>101361.4</td>\n",
       "      <td>SIPO</td>\n",
       "      <td>OP</td>\n",
       "      <td>77362507.0</td>\n",
       "      <td>67</td>\n",
       "      <td>POPLATEK MESICNE</td>\n",
       "      <td>930912</td>\n",
       "      <td>1378</td>\n",
       "      <td>1378</td>\n",
       "      <td>OWNER</td>\n",
       "      <td>NaN</td>\n",
       "      <td>1970-01-01 00:00:00.000980513</td>\n",
       "      <td>750324.0</td>\n",
       "      <td>220720.0</td>\n",
       "    </tr>\n",
       "    <tr>\n",
       "      <th>263744</th>\n",
       "      <td>27361</td>\n",
       "      <td>90</td>\n",
       "      <td>960116</td>\n",
       "      <td>VYDAJ</td>\n",
       "      <td>VYBER</td>\n",
       "      <td>2880.0</td>\n",
       "      <td>32784.7</td>\n",
       "      <td>NaN</td>\n",
       "      <td>NaN</td>\n",
       "      <td>NaN</td>\n",
       "      <td>1</td>\n",
       "      <td>POPLATEK MESICNE</td>\n",
       "      <td>940713</td>\n",
       "      <td>107</td>\n",
       "      <td>107</td>\n",
       "      <td>OWNER</td>\n",
       "      <td>720623.0</td>\n",
       "      <td>1970-01-01 00:00:00.000960116</td>\n",
       "      <td>750324.0</td>\n",
       "      <td>220720.0</td>\n",
       "    </tr>\n",
       "    <tr>\n",
       "      <th>198116</th>\n",
       "      <td>156737</td>\n",
       "      <td>524</td>\n",
       "      <td>950812</td>\n",
       "      <td>VYDAJ</td>\n",
       "      <td>PREVOD NA UCET</td>\n",
       "      <td>5768.0</td>\n",
       "      <td>28530.2</td>\n",
       "      <td>SIPO</td>\n",
       "      <td>AB</td>\n",
       "      <td>71994364.0</td>\n",
       "      <td>61</td>\n",
       "      <td>POPLATEK MESICNE</td>\n",
       "      <td>940503</td>\n",
       "      <td>630</td>\n",
       "      <td>630</td>\n",
       "      <td>OWNER</td>\n",
       "      <td>520303.0</td>\n",
       "      <td>1970-01-01 00:00:00.000950812</td>\n",
       "      <td>750324.0</td>\n",
       "      <td>220720.0</td>\n",
       "    </tr>\n",
       "    <tr>\n",
       "      <th>301310</th>\n",
       "      <td>971510</td>\n",
       "      <td>3310</td>\n",
       "      <td>960406</td>\n",
       "      <td>PRIJEM</td>\n",
       "      <td>PREVOD Z UCTU</td>\n",
       "      <td>4916.0</td>\n",
       "      <td>23855.5</td>\n",
       "      <td>DUCHOD</td>\n",
       "      <td>WX</td>\n",
       "      <td>39539855.0</td>\n",
       "      <td>25</td>\n",
       "      <td>POPLATEK MESICNE</td>\n",
       "      <td>930915</td>\n",
       "      <td>4002</td>\n",
       "      <td>4002</td>\n",
       "      <td>OWNER</td>\n",
       "      <td>205629.0</td>\n",
       "      <td>1970-01-01 00:00:00.000960406</td>\n",
       "      <td>750324.0</td>\n",
       "      <td>220720.0</td>\n",
       "    </tr>\n",
       "    <tr>\n",
       "      <th>649420</th>\n",
       "      <td>3592218</td>\n",
       "      <td>1869</td>\n",
       "      <td>970930</td>\n",
       "      <td>PRIJEM</td>\n",
       "      <td>NaN</td>\n",
       "      <td>321.7</td>\n",
       "      <td>75807.2</td>\n",
       "      <td>UROK</td>\n",
       "      <td>NaN</td>\n",
       "      <td>NaN</td>\n",
       "      <td>1</td>\n",
       "      <td>POPLATEK MESICNE</td>\n",
       "      <td>960614</td>\n",
       "      <td>2267</td>\n",
       "      <td>2267</td>\n",
       "      <td>OWNER</td>\n",
       "      <td>665410.0</td>\n",
       "      <td>1970-01-01 00:00:00.000970930</td>\n",
       "      <td>750324.0</td>\n",
       "      <td>220720.0</td>\n",
       "    </tr>\n",
       "    <tr>\n",
       "      <th>44453</th>\n",
       "      <td>7158</td>\n",
       "      <td>27</td>\n",
       "      <td>940309</td>\n",
       "      <td>VYDAJ</td>\n",
       "      <td>VYBER</td>\n",
       "      <td>4300.0</td>\n",
       "      <td>31555.5</td>\n",
       "      <td>NaN</td>\n",
       "      <td>NaN</td>\n",
       "      <td>NaN</td>\n",
       "      <td>73</td>\n",
       "      <td>POPLATEK MESICNE</td>\n",
       "      <td>930926</td>\n",
       "      <td>33</td>\n",
       "      <td>33</td>\n",
       "      <td>OWNER</td>\n",
       "      <td>486204.0</td>\n",
       "      <td>1970-01-01 00:00:00.000940309</td>\n",
       "      <td>750324.0</td>\n",
       "      <td>220720.0</td>\n",
       "    </tr>\n",
       "    <tr>\n",
       "      <th>140787</th>\n",
       "      <td>3565773</td>\n",
       "      <td>1071</td>\n",
       "      <td>950228</td>\n",
       "      <td>PRIJEM</td>\n",
       "      <td>NaN</td>\n",
       "      <td>148.8</td>\n",
       "      <td>48421.7</td>\n",
       "      <td>UROK</td>\n",
       "      <td>NaN</td>\n",
       "      <td>NaN</td>\n",
       "      <td>68</td>\n",
       "      <td>POPLATEK TYDNE</td>\n",
       "      <td>930510</td>\n",
       "      <td>1286</td>\n",
       "      <td>1286</td>\n",
       "      <td>OWNER</td>\n",
       "      <td>NaN</td>\n",
       "      <td>1970-01-01 00:00:00.000950228</td>\n",
       "      <td>750324.0</td>\n",
       "      <td>220720.0</td>\n",
       "    </tr>\n",
       "    <tr>\n",
       "      <th>2763</th>\n",
       "      <td>25396</td>\n",
       "      <td>83</td>\n",
       "      <td>930516</td>\n",
       "      <td>PRIJEM</td>\n",
       "      <td>VKLAD</td>\n",
       "      <td>6800.0</td>\n",
       "      <td>16526.0</td>\n",
       "      <td>NaN</td>\n",
       "      <td>NaN</td>\n",
       "      <td>NaN</td>\n",
       "      <td>26</td>\n",
       "      <td>POPLATEK MESICNE</td>\n",
       "      <td>930416</td>\n",
       "      <td>98</td>\n",
       "      <td>98</td>\n",
       "      <td>OWNER</td>\n",
       "      <td>NaN</td>\n",
       "      <td>1970-01-01 00:00:00.000930516</td>\n",
       "      <td>750324.0</td>\n",
       "      <td>220720.0</td>\n",
       "    </tr>\n",
       "    <tr>\n",
       "      <th>297675</th>\n",
       "      <td>3546865</td>\n",
       "      <td>490</td>\n",
       "      <td>960331</td>\n",
       "      <td>PRIJEM</td>\n",
       "      <td>NaN</td>\n",
       "      <td>60.6</td>\n",
       "      <td>14861.0</td>\n",
       "      <td>UROK</td>\n",
       "      <td>NaN</td>\n",
       "      <td>NaN</td>\n",
       "      <td>45</td>\n",
       "      <td>POPLATEK MESICNE</td>\n",
       "      <td>950523</td>\n",
       "      <td>589</td>\n",
       "      <td>589</td>\n",
       "      <td>OWNER</td>\n",
       "      <td>610917.0</td>\n",
       "      <td>1970-01-01 00:00:00.000960331</td>\n",
       "      <td>750324.0</td>\n",
       "      <td>220720.0</td>\n",
       "    </tr>\n",
       "  </tbody>\n",
       "</table>\n",
       "</div>"
      ],
      "text/plain": [
       "         trans_id  account_id  trans_date trans_type       operation  amount  \\\n",
       "1041037    330025        1125      981210     PRIJEM           VKLAD  5751.0   \n",
       "774460     477508        1627      980131      VYDAJ           VYBER    14.6   \n",
       "870734     977041        3329      980531      VYDAJ           VYBER    14.6   \n",
       "228941    1062105        3629      951107      VYDAJ  PREVOD NA UCET  1894.0   \n",
       "495577    3559324         882      970228     PRIJEM             NaN    77.1   \n",
       "795586     371717        1266      980228      VYDAJ           VYBER    14.6   \n",
       "862108     337586        1146      980513      VYDAJ  PREVOD NA UCET  3437.0   \n",
       "263744      27361          90      960116      VYDAJ           VYBER  2880.0   \n",
       "198116     156737         524      950812      VYDAJ  PREVOD NA UCET  5768.0   \n",
       "301310     971510        3310      960406     PRIJEM   PREVOD Z UCTU  4916.0   \n",
       "649420    3592218        1869      970930     PRIJEM             NaN   321.7   \n",
       "44453        7158          27      940309      VYDAJ           VYBER  4300.0   \n",
       "140787    3565773        1071      950228     PRIJEM             NaN   148.8   \n",
       "2763        25396          83      930516     PRIJEM           VKLAD  6800.0   \n",
       "297675    3546865         490      960331     PRIJEM             NaN    60.6   \n",
       "\n",
       "          balance k_symbol bank     account  district_id         frequency  \\\n",
       "1041037   24617.0      NaN  NaN         NaN            1    POPLATEK TYDNE   \n",
       "774460    34590.7   SLUZBY  NaN         NaN            1  POPLATEK MESICNE   \n",
       "870734    45238.9   SLUZBY  NaN         NaN            3  POPLATEK MESICNE   \n",
       "228941    19774.6     SIPO   CD  72661483.0           48  POPLATEK MESICNE   \n",
       "495577    17376.0     UROK  NaN         NaN            9  POPLATEK MESICNE   \n",
       "795586    29088.8   SLUZBY  NaN         NaN           57  POPLATEK MESICNE   \n",
       "862108   101361.4     SIPO   OP  77362507.0           67  POPLATEK MESICNE   \n",
       "263744    32784.7      NaN  NaN         NaN            1  POPLATEK MESICNE   \n",
       "198116    28530.2     SIPO   AB  71994364.0           61  POPLATEK MESICNE   \n",
       "301310    23855.5   DUCHOD   WX  39539855.0           25  POPLATEK MESICNE   \n",
       "649420    75807.2     UROK  NaN         NaN            1  POPLATEK MESICNE   \n",
       "44453     31555.5      NaN  NaN         NaN           73  POPLATEK MESICNE   \n",
       "140787    48421.7     UROK  NaN         NaN           68    POPLATEK TYDNE   \n",
       "2763      16526.0      NaN  NaN         NaN           26  POPLATEK MESICNE   \n",
       "297675    14861.0     UROK  NaN         NaN           45  POPLATEK MESICNE   \n",
       "\n",
       "         account_creation  disp_id  client_id client_type  birth_number  \\\n",
       "1041037            971121     1350       1350       OWNER      590428.0   \n",
       "774460             940120     1972       1972       OWNER      465429.0   \n",
       "870734             961012     4024       4024       OWNER      641016.0   \n",
       "228941             930727     4377       4377       OWNER      780131.0   \n",
       "495577             930306     1062       1062       OWNER           NaN   \n",
       "795586             960701     1528       1528       OWNER      640320.0   \n",
       "862108             930912     1378       1378       OWNER           NaN   \n",
       "263744             940713      107        107       OWNER      720623.0   \n",
       "198116             940503      630        630       OWNER      520303.0   \n",
       "301310             930915     4002       4002       OWNER      205629.0   \n",
       "649420             960614     2267       2267       OWNER      665410.0   \n",
       "44453              930926       33         33       OWNER      486204.0   \n",
       "140787             930510     1286       1286       OWNER           NaN   \n",
       "2763               930416       98         98       OWNER           NaN   \n",
       "297675             950523      589        589       OWNER      610917.0   \n",
       "\n",
       "                                 Date    female      male  \n",
       "1041037 1970-01-01 00:00:00.000981210  750324.0  220720.0  \n",
       "774460  1970-01-01 00:00:00.000980131  750324.0  220720.0  \n",
       "870734  1970-01-01 00:00:00.000980531  750324.0  220720.0  \n",
       "228941  1970-01-01 00:00:00.000951107  750324.0  220720.0  \n",
       "495577  1970-01-01 00:00:00.000970228  750324.0  220720.0  \n",
       "795586  1970-01-01 00:00:00.000980228  750324.0  220720.0  \n",
       "862108  1970-01-01 00:00:00.000980513  750324.0  220720.0  \n",
       "263744  1970-01-01 00:00:00.000960116  750324.0  220720.0  \n",
       "198116  1970-01-01 00:00:00.000950812  750324.0  220720.0  \n",
       "301310  1970-01-01 00:00:00.000960406  750324.0  220720.0  \n",
       "649420  1970-01-01 00:00:00.000970930  750324.0  220720.0  \n",
       "44453   1970-01-01 00:00:00.000940309  750324.0  220720.0  \n",
       "140787  1970-01-01 00:00:00.000950228  750324.0  220720.0  \n",
       "2763    1970-01-01 00:00:00.000930516  750324.0  220720.0  \n",
       "297675  1970-01-01 00:00:00.000960331  750324.0  220720.0  "
      ]
     },
     "execution_count": 71,
     "metadata": {},
     "output_type": "execute_result"
    }
   ],
   "source": [
    "df_merged.sample(15)"
   ]
  },
  {
   "cell_type": "code",
   "execution_count": null,
   "metadata": {},
   "outputs": [],
   "source": []
  }
 ],
 "metadata": {
  "colab": {
   "collapsed_sections": [],
   "name": "Activity12_1.ipynb",
   "provenance": []
  },
  "kernelspec": {
   "display_name": "Python 3 (ipykernel)",
   "language": "python",
   "name": "python3"
  },
  "language_info": {
   "codemirror_mode": {
    "name": "ipython",
    "version": 3
   },
   "file_extension": ".py",
   "mimetype": "text/x-python",
   "name": "python",
   "nbconvert_exporter": "python",
   "pygments_lexer": "ipython3",
   "version": "3.9.7"
  }
 },
 "nbformat": 4,
 "nbformat_minor": 4
}
