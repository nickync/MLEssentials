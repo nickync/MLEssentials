{
 "cells": [
  {
   "cell_type": "code",
   "execution_count": null,
   "metadata": {
    "colab": {},
    "colab_type": "code",
    "id": "HEiOAwQPW0qb"
   },
   "outputs": [],
   "source": [
    "import pandas as pd"
   ]
  },
  {
   "cell_type": "code",
   "execution_count": null,
   "metadata": {
    "colab": {},
    "colab_type": "code",
    "id": "j7whidfaYjns"
   },
   "outputs": [],
   "source": [
    "disp_url = 'https://raw.githubusercontent.com/fenago/MLEssentials/main/datasets/disp.csv'\n",
    "account_url = 'https://raw.githubusercontent.com/fenago/MLEssentials/main/datasets/account.csv'\n",
    "client_url = 'https://raw.githubusercontent.com/fenago/MLEssentials/main/datasets/client.csv'\n",
    "trans_url = './datasets/trans.csv'\n",
    "# data can be found here: https://github.com/fenago/MLEssentials/tree/main/datasets"
   ]
  },
  {
   "cell_type": "code",
   "execution_count": null,
   "metadata": {
    "colab": {
     "base_uri": "https://localhost:8080/",
     "height": 71
    },
    "colab_type": "code",
    "executionInfo": {
     "elapsed": 8712,
     "status": "ok",
     "timestamp": 1574650430652,
     "user": {
      "displayName": "Anthony So",
      "photoUrl": "https://lh3.googleusercontent.com/a-/AAuE7mCYY-iGjUIqBSnlLoszfZTN7rU7FRNg05Rdt9Ii3A=s64",
      "userId": "11809607246124237079"
     },
     "user_tz": -660
    },
    "id": "nFMz2jNVt-xy",
    "outputId": "95f4874b-575f-4b8d-ede4-734116c4a502"
   },
   "outputs": [],
   "source": [
    "df_disp = pd.read_csv(disp_url, sep=';')\n",
    "df_trans = pd.read_csv(trans_url, sep=';')\n",
    "df_account = pd.read_csv(account_url, sep=';')\n",
    "df_client = pd.read_csv(client_url, sep=';')"
   ]
  },
  {
   "cell_type": "code",
   "execution_count": null,
   "metadata": {
    "colab": {
     "base_uri": "https://localhost:8080/",
     "height": 204
    },
    "colab_type": "code",
    "executionInfo": {
     "elapsed": 8706,
     "status": "ok",
     "timestamp": 1574650430653,
     "user": {
      "displayName": "Anthony So",
      "photoUrl": "https://lh3.googleusercontent.com/a-/AAuE7mCYY-iGjUIqBSnlLoszfZTN7rU7FRNg05Rdt9Ii3A=s64",
      "userId": "11809607246124237079"
     },
     "user_tz": -660
    },
    "id": "xAqQ7rpV0nkT",
    "outputId": "d059dc0b-ace2-467e-c3cd-8361faf44170"
   },
   "outputs": [],
   "source": [
    "df_trans.head()"
   ]
  },
  {
   "cell_type": "code",
   "execution_count": null,
   "metadata": {
    "colab": {
     "base_uri": "https://localhost:8080/",
     "height": 34
    },
    "colab_type": "code",
    "executionInfo": {
     "elapsed": 8701,
     "status": "ok",
     "timestamp": 1574650430654,
     "user": {
      "displayName": "Anthony So",
      "photoUrl": "https://lh3.googleusercontent.com/a-/AAuE7mCYY-iGjUIqBSnlLoszfZTN7rU7FRNg05Rdt9Ii3A=s64",
      "userId": "11809607246124237079"
     },
     "user_tz": -660
    },
    "id": "zybRLGrd2bPf",
    "outputId": "8e1da605-af26-46e1-9bf1-6e5b9a337857"
   },
   "outputs": [],
   "source": [
    "df_trans.shape"
   ]
  },
  {
   "cell_type": "code",
   "execution_count": null,
   "metadata": {
    "colab": {
     "base_uri": "https://localhost:8080/",
     "height": 204
    },
    "colab_type": "code",
    "executionInfo": {
     "elapsed": 8696,
     "status": "ok",
     "timestamp": 1574650430655,
     "user": {
      "displayName": "Anthony So",
      "photoUrl": "https://lh3.googleusercontent.com/a-/AAuE7mCYY-iGjUIqBSnlLoszfZTN7rU7FRNg05Rdt9Ii3A=s64",
      "userId": "11809607246124237079"
     },
     "user_tz": -660
    },
    "id": "IvvSvYl42Koi",
    "outputId": "c90574b1-5620-4d6b-e13b-ce8ba5ae66f0"
   },
   "outputs": [],
   "source": [
    "df_account.head()"
   ]
  },
  {
   "cell_type": "code",
   "execution_count": null,
   "metadata": {
    "colab": {},
    "colab_type": "code",
    "id": "Fk2bTvEp17Bp"
   },
   "outputs": [],
   "source": [
    "df_trans_acc = pd.merge(df_trans, df_account, how='left', on='account_id')"
   ]
  },
  {
   "cell_type": "code",
   "execution_count": null,
   "metadata": {
    "colab": {
     "base_uri": "https://localhost:8080/",
     "height": 34
    },
    "colab_type": "code",
    "executionInfo": {
     "elapsed": 9099,
     "status": "ok",
     "timestamp": 1574650431066,
     "user": {
      "displayName": "Anthony So",
      "photoUrl": "https://lh3.googleusercontent.com/a-/AAuE7mCYY-iGjUIqBSnlLoszfZTN7rU7FRNg05Rdt9Ii3A=s64",
      "userId": "11809607246124237079"
     },
     "user_tz": -660
    },
    "id": "9BN6zHeL2lOx",
    "outputId": "357d0b26-daed-429e-dd5f-7f9c0e5a4a27"
   },
   "outputs": [],
   "source": [
    "df_trans_acc.shape"
   ]
  },
  {
   "cell_type": "code",
   "execution_count": null,
   "metadata": {
    "colab": {
     "base_uri": "https://localhost:8080/",
     "height": 204
    },
    "colab_type": "code",
    "executionInfo": {
     "elapsed": 9095,
     "status": "ok",
     "timestamp": 1574650431067,
     "user": {
      "displayName": "Anthony So",
      "photoUrl": "https://lh3.googleusercontent.com/a-/AAuE7mCYY-iGjUIqBSnlLoszfZTN7rU7FRNg05Rdt9Ii3A=s64",
      "userId": "11809607246124237079"
     },
     "user_tz": -660
    },
    "id": "98f8YCkO2q41",
    "outputId": "213b7737-8471-49f8-f25a-7aa78acac4f8"
   },
   "outputs": [],
   "source": [
    "df_disp.head()"
   ]
  },
  {
   "cell_type": "code",
   "execution_count": null,
   "metadata": {
    "colab": {},
    "colab_type": "code",
    "id": "ap--Zddi3KYG"
   },
   "outputs": [],
   "source": [
    "df_disp_owner = df_disp[df_disp['type'] == 'OWNER']"
   ]
  },
  {
   "cell_type": "code",
   "execution_count": null,
   "metadata": {
    "colab": {
     "base_uri": "https://localhost:8080/",
     "height": 34
    },
    "colab_type": "code",
    "executionInfo": {
     "elapsed": 9088,
     "status": "ok",
     "timestamp": 1574650431068,
     "user": {
      "displayName": "Anthony So",
      "photoUrl": "https://lh3.googleusercontent.com/a-/AAuE7mCYY-iGjUIqBSnlLoszfZTN7rU7FRNg05Rdt9Ii3A=s64",
      "userId": "11809607246124237079"
     },
     "user_tz": -660
    },
    "id": "8rvJpD6V3VWU",
    "outputId": "e950a8f3-2d85-4c82-b9b6-d62b6df6cc2d"
   },
   "outputs": [],
   "source": [
    "df_disp_owner.duplicated(subset='account_id').sum()"
   ]
  },
  {
   "cell_type": "code",
   "execution_count": null,
   "metadata": {
    "colab": {
     "base_uri": "https://localhost:8080/",
     "height": 34
    },
    "colab_type": "code",
    "executionInfo": {
     "elapsed": 9081,
     "status": "ok",
     "timestamp": 1574650431069,
     "user": {
      "displayName": "Anthony So",
      "photoUrl": "https://lh3.googleusercontent.com/a-/AAuE7mCYY-iGjUIqBSnlLoszfZTN7rU7FRNg05Rdt9Ii3A=s64",
      "userId": "11809607246124237079"
     },
     "user_tz": -660
    },
    "id": "aeshCYj63Ezw",
    "outputId": "27de9e85-0643-4997-e318-f3d6bd7b3dd6"
   },
   "outputs": [],
   "source": [
    "df_trans_acc_disp = pd.merge(df_trans_acc, df_disp_owner, how='left', on='account_id')\n",
    "df_trans_acc_disp.shape"
   ]
  },
  {
   "cell_type": "code",
   "execution_count": null,
   "metadata": {
    "colab": {
     "base_uri": "https://localhost:8080/",
     "height": 204
    },
    "colab_type": "code",
    "executionInfo": {
     "elapsed": 9076,
     "status": "ok",
     "timestamp": 1574650431070,
     "user": {
      "displayName": "Anthony So",
      "photoUrl": "https://lh3.googleusercontent.com/a-/AAuE7mCYY-iGjUIqBSnlLoszfZTN7rU7FRNg05Rdt9Ii3A=s64",
      "userId": "11809607246124237079"
     },
     "user_tz": -660
    },
    "id": "J-_jUOwP3GGJ",
    "outputId": "3b19d650-c852-41d9-fa99-7123158a34ce"
   },
   "outputs": [],
   "source": [
    "df_client.head()"
   ]
  },
  {
   "cell_type": "code",
   "execution_count": null,
   "metadata": {
    "colab": {
     "base_uri": "https://localhost:8080/",
     "height": 34
    },
    "colab_type": "code",
    "executionInfo": {
     "elapsed": 9440,
     "status": "ok",
     "timestamp": 1574650431439,
     "user": {
      "displayName": "Anthony So",
      "photoUrl": "https://lh3.googleusercontent.com/a-/AAuE7mCYY-iGjUIqBSnlLoszfZTN7rU7FRNg05Rdt9Ii3A=s64",
      "userId": "11809607246124237079"
     },
     "user_tz": -660
    },
    "id": "35JidayO4C5X",
    "outputId": "da451ba8-56fd-4d66-f147-5d3c8f817991"
   },
   "outputs": [],
   "source": [
    "df_merged = pd.merge(df_trans_acc_disp, df_client, how='left', on=['client_id', 'district_id'])\n",
    "df_merged.shape"
   ]
  },
  {
   "cell_type": "code",
   "execution_count": null,
   "metadata": {
    "colab": {
     "base_uri": "https://localhost:8080/",
     "height": 85
    },
    "colab_type": "code",
    "executionInfo": {
     "elapsed": 9436,
     "status": "ok",
     "timestamp": 1574650431440,
     "user": {
      "displayName": "Anthony So",
      "photoUrl": "https://lh3.googleusercontent.com/a-/AAuE7mCYY-iGjUIqBSnlLoszfZTN7rU7FRNg05Rdt9Ii3A=s64",
      "userId": "11809607246124237079"
     },
     "user_tz": -660
    },
    "id": "8wGMCNV547RR",
    "outputId": "1069eb5a-7f28-47b4-8cf5-aa03fee7eac9"
   },
   "outputs": [],
   "source": [
    "df_merged.columns"
   ]
  },
  {
   "cell_type": "code",
   "execution_count": null,
   "metadata": {
    "colab": {},
    "colab_type": "code",
    "id": "2oyeYQnB5ODm"
   },
   "outputs": [],
   "source": [
    "df_merged.rename(columns={'date_x': 'trans_date', 'type_x': 'trans_type', 'date_y':'account_creation', 'type_y':'client_type'}, inplace=True)"
   ]
  },
  {
   "cell_type": "code",
   "execution_count": null,
   "metadata": {
    "colab": {
     "base_uri": "https://localhost:8080/",
     "height": 309
    },
    "colab_type": "code",
    "executionInfo": {
     "elapsed": 9997,
     "status": "ok",
     "timestamp": 1574650432011,
     "user": {
      "displayName": "Anthony So",
      "photoUrl": "https://lh3.googleusercontent.com/a-/AAuE7mCYY-iGjUIqBSnlLoszfZTN7rU7FRNg05Rdt9Ii3A=s64",
      "userId": "11809607246124237079"
     },
     "user_tz": -660
    },
    "id": "tiPA68we6G-v",
    "outputId": "be267f16-4953-459f-a9d9-2139b91f4f31"
   },
   "outputs": [],
   "source": [
    "df_merged.head()"
   ]
  },
  {
   "cell_type": "code",
   "execution_count": null,
   "metadata": {
    "colab": {
     "base_uri": "https://localhost:8080/",
     "height": 323
    },
    "colab_type": "code",
    "executionInfo": {
     "elapsed": 9993,
     "status": "ok",
     "timestamp": 1574650432012,
     "user": {
      "displayName": "Anthony So",
      "photoUrl": "https://lh3.googleusercontent.com/a-/AAuE7mCYY-iGjUIqBSnlLoszfZTN7rU7FRNg05Rdt9Ii3A=s64",
      "userId": "11809607246124237079"
     },
     "user_tz": -660
    },
    "id": "GV_1Jh4H6Qy4",
    "outputId": "e0a7024c-8bc7-429c-a4c8-c012c21347fc"
   },
   "outputs": [],
   "source": [
    "df_merged.dtypes"
   ]
  },
  {
   "cell_type": "code",
   "execution_count": null,
   "metadata": {},
   "outputs": [],
   "source": [
    "# Start here with your merged data types"
   ]
  }
 ],
 "metadata": {
  "colab": {
   "collapsed_sections": [],
   "name": "Activity12_1.ipynb",
   "provenance": []
  },
  "kernelspec": {
   "display_name": "Python 3",
   "language": "python",
   "name": "python3"
  },
  "language_info": {
   "codemirror_mode": {
    "name": "ipython",
    "version": 3
   },
   "file_extension": ".py",
   "mimetype": "text/x-python",
   "name": "python",
   "nbconvert_exporter": "python",
   "pygments_lexer": "ipython3",
   "version": "3.8.6"
  }
 },
 "nbformat": 4,
 "nbformat_minor": 4
}
